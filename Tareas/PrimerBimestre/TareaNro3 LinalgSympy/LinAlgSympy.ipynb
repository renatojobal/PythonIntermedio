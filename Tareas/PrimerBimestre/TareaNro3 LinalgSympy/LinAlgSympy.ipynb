{
 "cells": [
  {
   "cell_type": "markdown",
   "metadata": {},
   "source": [
    "# Tarea Nro. 3 - LinAlg + Sympy"
   ]
  },
  {
   "cell_type": "markdown",
   "metadata": {},
   "source": [
    "- Nombre y apellido: ........................\n",
    "- Fecha:             ........................  "
   ]
  },
  {
   "cell_type": "markdown",
   "metadata": {},
   "source": [
    "### Producto punto"
   ]
  },
  {
   "cell_type": "markdown",
   "metadata": {},
   "source": [
    "1. Use un producto punto y la lista de compras de la tabla 9.4 para determinar su cuenta total en la tienda.\n",
    "\n",
    "\n",
    "<img src=\"./img/Tabla9.4.png\" alt=\"drawing\" width=\"400\"/>\n"
   ]
  },
  {
   "cell_type": "code",
   "execution_count": null,
   "metadata": {},
   "outputs": [],
   "source": []
  },
  {
   "cell_type": "markdown",
   "metadata": {},
   "source": [
    "### Multiplicación matricial "
   ]
  },
  {
   "cell_type": "markdown",
   "metadata": {},
   "source": [
    "2. Con un calorímetro de bomba se realizó una serie de experimentos. En cada experimento se usó una cantidad diferente de agua. Calcule la capacidad calorífica total para el calorímetro en cada uno de los experimentos, mediante multiplicación matricial, los datos de la tabla 9.8 y la información acerca de la capacidad calorífica que sigue a la tabla.\n",
    "\n",
    "<img src=\"./img/Tabla9.8_1.png\" alt=\"drawing\" width=\"400\"/>\n",
    "<img src=\"./img/Tabla9.8_2.png\" alt=\"drawing\" width=\"400\"/>"
   ]
  },
  {
   "cell_type": "code",
   "execution_count": null,
   "metadata": {},
   "outputs": [],
   "source": []
  },
  {
   "cell_type": "markdown",
   "metadata": {},
   "source": [
    "### Determinantes e inversos"
   ]
  },
  {
   "cell_type": "markdown",
   "metadata": {},
   "source": [
    "3. Recuerde que no todas las matrices tienen inverso. Una matriz es singular (es decir: no tiene inverso) si su determinante es igual a 0 (es decir, |A| = 0). Use la función determinante para probar si cada una de las siguientes matrices tiene inverso:\n",
    "\n",
    "<img src=\"./img/Matrices9.14.png\" alt=\"drawing\" width=\"400\"/>\n",
    "\n",
    "Si existe un inverso, calcúlelo."
   ]
  },
  {
   "cell_type": "markdown",
   "metadata": {},
   "source": [
    "### Resolución de sistemas ecuaciones lineales"
   ]
  },
  {
   "cell_type": "markdown",
   "metadata": {},
   "source": [
    "4. Resuelva el siguiente sistema de ecuaciones \n",
    "\n",
    "<img src=\"./img/SistemaEcuaciones9.19.png\" alt=\"drawing\" width=\"400\"/>"
   ]
  },
  {
   "cell_type": "code",
   "execution_count": null,
   "metadata": {},
   "outputs": [],
   "source": []
  },
  {
   "cell_type": "markdown",
   "metadata": {},
   "source": [
    "### Cálculo"
   ]
  },
  {
   "cell_type": "markdown",
   "metadata": {},
   "source": [
    "5. La capacidad calorífica C<sub>p</sub> de un gas se puede modelar con la ecuación empírica\n",
    "\n",
    "$$C_p = a + bT + cT^2+dT^3$$\n",
    "\n",
    "donde a, b, c y d son constantes empíricas y T es la temperatura en grados Kelvin. El cambio en entalpía (una medida de energía) conforme el gas se caliente de T<sub>1</sub> a T<sub>2</sub>  es la integral de esta ecuación con respecto a T:\n",
    "\n",
    "$$\\bigtriangleup h = \\int_{T_{1}}^{T_{2}} C_{p}dT \\,dx  $$\n",
    "\n",
    "Encuentre el cambio en entalpía del oxígeno gaseoso conforme se calienta de 300 K a 1000 K. Los valores de a, b, c y d para el oxígeno son\n",
    "\n",
    "$$\n",
    "\\begin{equation} \n",
    "\\begin{split}\n",
    "a & = 25.48 \\\\\n",
    "b & = 1.520 x 10^{-2} \\\\\n",
    "c & = -0.7155 x 10^{-5} \\\\\n",
    "d & = 1.312 x 10^{-9}\n",
    "\\end{split}\n",
    "\\end{equation}\n",
    "$$\n"
   ]
  },
  {
   "cell_type": "code",
   "execution_count": null,
   "metadata": {},
   "outputs": [],
   "source": []
  }
 ],
 "metadata": {
  "kernelspec": {
   "display_name": "Python 3",
   "language": "python",
   "name": "python3"
  },
  "language_info": {
   "codemirror_mode": {
    "name": "ipython",
    "version": 3
   },
   "file_extension": ".py",
   "mimetype": "text/x-python",
   "name": "python",
   "nbconvert_exporter": "python",
   "pygments_lexer": "ipython3",
   "version": "3.7.6"
  }
 },
 "nbformat": 4,
 "nbformat_minor": 4
}
