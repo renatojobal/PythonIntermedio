{
  "nbformat": 4,
  "nbformat_minor": 0,
  "metadata": {
    "kernelspec": {
      "display_name": "Python 3",
      "language": "python",
      "name": "python3"
    },
    "language_info": {
      "codemirror_mode": {
        "name": "ipython",
        "version": 3
      },
      "file_extension": ".py",
      "mimetype": "text/x-python",
      "name": "python",
      "nbconvert_exporter": "python",
      "pygments_lexer": "ipython3",
      "version": "3.7.6"
    },
    "colab": {
      "name": "algebra_lineal_apuntes.ipynb",
      "provenance": [],
      "include_colab_link": true
    }
  },
  "cells": [
    {
      "cell_type": "markdown",
      "metadata": {
        "id": "view-in-github",
        "colab_type": "text"
      },
      "source": [
        "<a href=\"https://colab.research.google.com/github/lsantiago/PythonIntermedio/blob/master/Clases/Semana6_ALGEBRA/algebra_lineal_apuntes.ipynb\" target=\"_parent\"><img src=\"https://colab.research.google.com/assets/colab-badge.svg\" alt=\"Open In Colab\"/></a>"
      ]
    },
    {
      "cell_type": "markdown",
      "metadata": {
        "id": "7D6tCiguUp9p"
      },
      "source": [
        "# Clase Nro. 6: Álgebra Lineal"
      ]
    },
    {
      "cell_type": "markdown",
      "metadata": {
        "id": "dD4FjcYeUp9q"
      },
      "source": [
        "> El álgebra lineal es una rama de las matemáticas que estudia conceptos tales como vectores, matrices, espacio dual, sistemas de ecuaciones lineales y en su enfoque de manera más formal, espacios vectoriales y sus transformaciones lineales"
      ]
    },
    {
      "cell_type": "markdown",
      "metadata": {
        "id": "qnVIfQrjUp9q"
      },
      "source": [
        "np.linalg: paquete de álgebra lineal en NumPy \n",
        "\n",
        "- Funciones básicas \n",
        "    - vectores\n",
        "    - operaciones con vectores \n",
        "    - norma de un vector\n",
        "    - operaciones con matrices\n",
        "    - inversa de una matriz\n",
        "    - determinante\n",
        "- Resolución de sistemas\n"
      ]
    },
    {
      "cell_type": "markdown",
      "metadata": {
        "id": "xp3npLv-Up9q"
      },
      "source": [
        "_Con el manejo básico de arrays en Python con NumPy, es hora de pasar a operaciones más interesantes como son las propias del Álgebra Lineal._\n",
        "\n",
        "_Los productos escalares y las inversiones de matrices están por todas partes en los programas científicos e ingenieriles, así que vamos a estudiar cómo se realizan en Python._"
      ]
    },
    {
      "cell_type": "markdown",
      "metadata": {
        "id": "DBSsziPdUp9q"
      },
      "source": [
        "Como sabemos, las operaciones del álgebra lineal aparecen con mucha frecuencia a la hora de resolver sistemas de ecuaciones en derivadas parciales y en general al linealizar problemas de todo tipo, y suele ser necesario resolver sistemas con un número enorme de ecuaciones e incógnitas. Gracias a los arrays de NumPy podemos abordar este tipo de cálculos en Python, ya que todas las funciones están escritas en C o Fortran y tenemos la opción de usar bibliotecas optimizadas al límite."
      ]
    },
    {
      "cell_type": "markdown",
      "metadata": {
        "id": "WrYoiuWgUp9q"
      },
      "source": [
        "El paquete de álgebra lineal en NumPy se llama `linalg`, así que importando NumPy con la convención habitual podemos acceder a él escribiendo `np.linalg`. "
      ]
    },
    {
      "cell_type": "markdown",
      "metadata": {
        "id": "4hdmzYSxUp9q"
      },
      "source": [
        "**Pero ¿Porqué álgebra lineal?** \n",
        "\n",
        "Si entendemos álgebra lineal podremos desarrollar una mejor intuición para el aprendizaje automático y algoritmos. Además, también seremos capaces de desarrollar algoritmos desde cero y hacer variaciones de ellos."
      ]
    },
    {
      "cell_type": "markdown",
      "metadata": {
        "id": "uB2QGX6OUp9q"
      },
      "source": [
        "**¿Qué es un vector?**"
      ]
    },
    {
      "cell_type": "markdown",
      "metadata": {
        "id": "AFsDbULMUp9r"
      },
      "source": [
        "Un vector tiene tanto magnitud como dirección. Utilizamos vectores para describir, por ejemplo, la velocidad de objetos en movimiento."
      ]
    },
    {
      "cell_type": "markdown",
      "metadata": {
        "id": "ZV6E0GA4Up9r"
      },
      "source": [
        "Por dirección, se refiere a dónde en el espacio apunta la “flecha”, y la magnitud te dice qué tan lejos debes ir en esa dirección. Si solo tienes magnitud, pero no dirección, entonces estás hablando de escalares. Una vez que le das al escalar alguna dirección, se convierte en un vector.\n",
        "\n",
        "Un vector se representa con una letra minúscula y una flecha arriba, apuntando a la derecha"
      ]
    },
    {
      "cell_type": "markdown",
      "metadata": {
        "id": "XB3FNQPBUp9r"
      },
      "source": [
        "![vector](https://cdn-images-1.medium.com/max/800/1*6dAzelg6O36hbb74L7b1gQ.png)"
      ]
    },
    {
      "cell_type": "markdown",
      "metadata": {
        "id": "l_HEFCK8Up9r"
      },
      "source": [
        "**Suma de vectores**"
      ]
    },
    {
      "cell_type": "markdown",
      "metadata": {
        "id": "NI3ZydZGUp9r"
      },
      "source": [
        "Para sumar los vectores (x₁,y₁) y (x₂,y₂), sumamos los componentes correspondientes de cada vector: (x₁+x₂,y₁+y₂)"
      ]
    },
    {
      "cell_type": "markdown",
      "metadata": {
        "id": "n5tjoyxTUp9r"
      },
      "source": [
        "![suma de vectores](https://cdn-images-1.medium.com/max/800/0*9r4Qmivh-MSPFqM3.png)"
      ]
    },
    {
      "cell_type": "code",
      "metadata": {
        "id": "665kCpksUp9r"
      },
      "source": [
        ""
      ],
      "execution_count": null,
      "outputs": []
    },
    {
      "cell_type": "markdown",
      "metadata": {
        "id": "BHLNeYqZUp9r"
      },
      "source": [
        "**Multiplicar un vector por un escalar**"
      ]
    },
    {
      "cell_type": "markdown",
      "metadata": {
        "id": "_OZaIt32Up9r"
      },
      "source": [
        "![](https://cdn-images-1.medium.com/max/800/0*YNlBN98aoAyV4DAL.png)"
      ]
    },
    {
      "cell_type": "code",
      "metadata": {
        "id": "q2ILkTEEUp9r"
      },
      "source": [
        ""
      ],
      "execution_count": null,
      "outputs": []
    },
    {
      "cell_type": "markdown",
      "metadata": {
        "id": "L2jlTujIUp9r"
      },
      "source": [
        "**Producto punto o escalar**"
      ]
    },
    {
      "cell_type": "markdown",
      "metadata": {
        "id": "J8cFe918Up9r"
      },
      "source": [
        "Esto suena raro, pero no es más que la multiplicación de vectores cuyo resultado es un escalar. Para calcular el producto escalar de dos vectores, primero debemos multiplicar los elementos correspondientes y luego sumar los términos del producto."
      ]
    },
    {
      "cell_type": "markdown",
      "metadata": {
        "id": "zAYbX8yyUp9r"
      },
      "source": [
        "En la siguiente fórmula lo vemos mucho más fácil"
      ]
    },
    {
      "cell_type": "markdown",
      "metadata": {
        "id": "K0jZmDXkUp9r"
      },
      "source": [
        "![image.png](https://cdn-images-1.medium.com/max/800/0*lMEmcY_nXD4LOvHD.png)"
      ]
    },
    {
      "cell_type": "markdown",
      "metadata": {
        "id": "gnHqr_9jUp9r"
      },
      "source": [
        "<img src=\"https://cdn-images-1.medium.com/max/800/1*ys1bMjlrtchr_ClPah7Z2w.png\" alt=\"drawing\" width=\"500\"/>"
      ]
    },
    {
      "cell_type": "code",
      "metadata": {
        "id": "Tas4UYi-Up9r"
      },
      "source": [
        ""
      ],
      "execution_count": null,
      "outputs": []
    },
    {
      "cell_type": "markdown",
      "metadata": {
        "id": "hrXKPD22Up9r"
      },
      "source": [
        "**Norma vectorial**"
      ]
    },
    {
      "cell_type": "markdown",
      "metadata": {
        "id": "EXqseG2jUp9s"
      },
      "source": [
        "La norma es solo otro término para la magnitud de un vector y se denota con dos lineas dobles (||) en cada lado. Se define como una raíz cuadrada de la suma de cuadrados para cada componente de un vector\n",
        "\n",
        "Pasos: \n",
        "- Elevar al cuadrado cada componente\n",
        "- Suma todos los cuadrados\n",
        "- Toma la raíz cuadrada\n",
        "\n",
        "Trabajemos ahora con la formula:"
      ]
    },
    {
      "cell_type": "markdown",
      "metadata": {
        "id": "GKpdJWNJUp9s"
      },
      "source": [
        "![](https://cdn-images-1.medium.com/max/800/0*fIYtRzCI6vI8THet.png)"
      ]
    },
    {
      "cell_type": "markdown",
      "metadata": {
        "id": "K6SAfycjUp9s"
      },
      "source": [
        "<img src=\"https://cdn-images-1.medium.com/max/800/1*95bAtiMefunHPhLbwOYnnQ.png\" alt=\"drawing\" width=\"500\"/>"
      ]
    },
    {
      "cell_type": "code",
      "metadata": {
        "id": "8ENBZB-WUp9s"
      },
      "source": [
        ""
      ],
      "execution_count": null,
      "outputs": []
    },
    {
      "cell_type": "markdown",
      "metadata": {
        "id": "9z3oP2FuUp9s"
      },
      "source": [
        "**Vector unitario**"
      ]
    },
    {
      "cell_type": "markdown",
      "metadata": {
        "id": "1oHYSZDNUp9s"
      },
      "source": [
        "Los vectores unitarios son aquellos cuya magnitud es exactamente 1 unidad. Son muy útiles por diversas razones. Específicamente, los vectores unitarios [0,1] y [1,0] juntos pueden formar cualquier otro vector.\n",
        "\n",
        "Un vector unitario se denota con mayor frecuencia con un símbolo de sombrero (^) y se determina calculando la norma y luego dividiendo cada componente del vector con la norma.\n",
        "\n",
        "Suena complejo, pero vamos a hacer un ejercicio para poder ver que es más complejo de lo que imaginamos"
      ]
    },
    {
      "cell_type": "markdown",
      "metadata": {
        "id": "oFcWU_bgUp9s"
      },
      "source": [
        "![](https://cdn-images-1.medium.com/max/800/0*3Qkk3weTeyaMYthE.png)"
      ]
    },
    {
      "cell_type": "markdown",
      "metadata": {
        "id": "apHMhCdDUp9s"
      },
      "source": [
        "<img src=\"https://cdn-images-1.medium.com/max/800/1*wFFS0a3soJRC7XlZxzJ6Kg.png\" alt=\"drawing\" width=\"400\" height=\"400\"/>"
      ]
    },
    {
      "cell_type": "code",
      "metadata": {
        "id": "tDBRe6ylUp9s"
      },
      "source": [
        ""
      ],
      "execution_count": null,
      "outputs": []
    },
    {
      "cell_type": "markdown",
      "metadata": {
        "id": "VOYi2FhqUp9s"
      },
      "source": [
        "## Operaciones con matrices"
      ]
    },
    {
      "cell_type": "markdown",
      "metadata": {
        "id": "JEOuKHNsUp9s"
      },
      "source": [
        " ¿Qué es una matriz? Una matriz es simplemente un arreglo rectangular de números\n",
        " \n",
        "En data science las usamos un montón, así no nos demos cuenta. Es muy importante de diferenciar un vector de una matriz. En pocas palabras un vector es una sola columna (atributo) en su conjunto de datos y una matriz es una colección de todas las columnas"
      ]
    },
    {
      "cell_type": "code",
      "metadata": {
        "id": "g_WDkY3hUp9s"
      },
      "source": [
        ""
      ],
      "execution_count": null,
      "outputs": []
    },
    {
      "cell_type": "markdown",
      "metadata": {
        "id": "HFbwrLqxUp9s"
      },
      "source": [
        "**Definición de matrices**"
      ]
    },
    {
      "cell_type": "markdown",
      "metadata": {
        "id": "TrdRo0i3Up9s"
      },
      "source": [
        "$A = \\begin{equation}\n",
        "\\begin{bmatrix}\n",
        "1 & 2 & 3\\\\\n",
        "4 & 5 & 6\\\\\n",
        "\\end{bmatrix}\n",
        "\\end{equation}$"
      ]
    },
    {
      "cell_type": "code",
      "metadata": {
        "id": "lYZJx_1rUp9s"
      },
      "source": [
        ""
      ],
      "execution_count": null,
      "outputs": []
    },
    {
      "cell_type": "markdown",
      "metadata": {
        "id": "i9Xe_x-LUp9s"
      },
      "source": [
        "$B = \\begin{equation}\n",
        "\\begin{bmatrix}\n",
        "5 & 5 & 5\\\\\n",
        "5 & 5 & 5\\\\\n",
        "\\end{bmatrix}\n",
        "\\end{equation}$"
      ]
    },
    {
      "cell_type": "code",
      "metadata": {
        "id": "-I2dv_y-Up9s"
      },
      "source": [
        ""
      ],
      "execution_count": null,
      "outputs": []
    },
    {
      "cell_type": "markdown",
      "metadata": {
        "id": "BUMyS848Up9s"
      },
      "source": [
        "$v = \\begin{equation}\n",
        "\\begin{bmatrix}\n",
        "6\\\\\n",
        "7\\\\\n",
        "8\n",
        "\\end{bmatrix}\n",
        "\\end{equation}$"
      ]
    },
    {
      "cell_type": "code",
      "metadata": {
        "id": "fREy5TTrUp9s"
      },
      "source": [
        ""
      ],
      "execution_count": null,
      "outputs": []
    },
    {
      "cell_type": "markdown",
      "metadata": {
        "id": "ZsJH3-HtUp9s"
      },
      "source": [
        "**Suma de matrices**"
      ]
    },
    {
      "cell_type": "markdown",
      "metadata": {
        "id": "C7sYl9_ZUp9s"
      },
      "source": [
        "![](https://cdn-images-1.medium.com/max/1600/0*eKgiNEikBO09MCN1.png)"
      ]
    },
    {
      "cell_type": "code",
      "metadata": {
        "id": "xtj-iC-gUp9s"
      },
      "source": [
        ""
      ],
      "execution_count": null,
      "outputs": []
    },
    {
      "cell_type": "markdown",
      "metadata": {
        "id": "FnTYyxREUp9s"
      },
      "source": [
        "**Resta de matrices**"
      ]
    },
    {
      "cell_type": "code",
      "metadata": {
        "id": "jEUgMT1wUp9s"
      },
      "source": [
        ""
      ],
      "execution_count": null,
      "outputs": []
    },
    {
      "cell_type": "markdown",
      "metadata": {
        "id": "r1m-1T3oUp9s"
      },
      "source": [
        "**Multiplicación por un escalar**"
      ]
    },
    {
      "cell_type": "markdown",
      "metadata": {
        "id": "sCnKsgPBUp9s"
      },
      "source": [
        "![](https://cdn-images-1.medium.com/max/1600/0*RMuq3SZ_8Z4KE-48.png)"
      ]
    },
    {
      "cell_type": "code",
      "metadata": {
        "id": "KeiLGsfEUp9s"
      },
      "source": [
        ""
      ],
      "execution_count": null,
      "outputs": []
    },
    {
      "cell_type": "markdown",
      "metadata": {
        "id": "x9aOOczdUp9s"
      },
      "source": [
        "**Matriz transpuesta**"
      ]
    },
    {
      "cell_type": "markdown",
      "metadata": {
        "id": "bdIk_b2FUp9s"
      },
      "source": [
        "![](https://cdn-images-1.medium.com/max/1600/0*mrjFrMfmMcj4xsUe.png)"
      ]
    },
    {
      "cell_type": "code",
      "metadata": {
        "id": "FufqeVuhUp9s"
      },
      "source": [
        ""
      ],
      "execution_count": null,
      "outputs": []
    },
    {
      "cell_type": "markdown",
      "metadata": {
        "id": "7XCW0ZuOUp9s"
      },
      "source": [
        "**Matriz identidad**"
      ]
    },
    {
      "cell_type": "code",
      "metadata": {
        "id": "L-CuxRrnUp9s"
      },
      "source": [
        ""
      ],
      "execution_count": null,
      "outputs": []
    },
    {
      "cell_type": "code",
      "metadata": {
        "id": "_dtKrJ6NUp9s"
      },
      "source": [
        "#help(np.linalg)"
      ],
      "execution_count": null,
      "outputs": []
    },
    {
      "cell_type": "markdown",
      "metadata": {
        "id": "LjABsZ_4Up9s"
      },
      "source": [
        "Recordemos que si queremos usar una función de un paquete pero no queremos escribir la \"ruta\" completa cada vez, podemos usar la sintaxis `from package import func`:"
      ]
    },
    {
      "cell_type": "code",
      "metadata": {
        "id": "HVnJcv03Up9s"
      },
      "source": [
        "from numpy.linalg import norm, det\n",
        "norm"
      ],
      "execution_count": null,
      "outputs": []
    },
    {
      "cell_type": "markdown",
      "metadata": {
        "id": "3HUyOqRyUp9s"
      },
      "source": [
        "El producto matricial usual (no el que se hace elemento a elemento, sino el del álgebra lineal) se calcula con la misma función que el producto matriz-vector y el producto escalar vector-vector: con la función `dot`, que **no** está en el paquete `linalg` sino directamente en `numpy` y no hace falta importarlo."
      ]
    },
    {
      "cell_type": "code",
      "metadata": {
        "id": "GXXlCNCoUp9s"
      },
      "source": [
        "np.dot"
      ],
      "execution_count": null,
      "outputs": []
    },
    {
      "cell_type": "markdown",
      "metadata": {
        "id": "P9-wMfltUp9s"
      },
      "source": [
        "Una consideración importante a tener en cuenta es que en NumPy no hace falta ser estricto a la hora de manejar vectores como si fueran matrices columna, siempre que la operación sea consistente. Un vector es una matriz con una sola dimensión: por eso si calculamos su traspuesta no funciona."
      ]
    },
    {
      "cell_type": "code",
      "metadata": {
        "id": "90aH7DPwUp9t"
      },
      "source": [
        "M = np.array([\n",
        "    [1, 2],\n",
        "    [3, 4]\n",
        "])\n",
        "v = np.array([1, -1])"
      ],
      "execution_count": null,
      "outputs": []
    },
    {
      "cell_type": "markdown",
      "metadata": {
        "id": "qu7M0s2sUp9t"
      },
      "source": [
        "v"
      ]
    },
    {
      "cell_type": "code",
      "metadata": {
        "id": "waj2W95NUp9t"
      },
      "source": [
        "M.T"
      ],
      "execution_count": null,
      "outputs": []
    },
    {
      "cell_type": "code",
      "metadata": {
        "id": "VFm92L3hUp9t"
      },
      "source": [
        "v.T"
      ],
      "execution_count": null,
      "outputs": []
    },
    {
      "cell_type": "code",
      "metadata": {
        "id": "emrun56GUp9t"
      },
      "source": [
        "v.reshape(2,1).T"
      ],
      "execution_count": null,
      "outputs": []
    },
    {
      "cell_type": "code",
      "metadata": {
        "id": "Jp9m68HhUp9t"
      },
      "source": [
        "u = np.dot(M, v)\n",
        "u"
      ],
      "execution_count": null,
      "outputs": []
    },
    {
      "cell_type": "markdown",
      "metadata": {
        "id": "ZAPTztxWUp9t"
      },
      "source": [
        "**Multiplicación entre matrices**"
      ]
    },
    {
      "cell_type": "code",
      "metadata": {
        "id": "MyDg727aUp9t"
      },
      "source": [
        ""
      ],
      "execution_count": null,
      "outputs": []
    },
    {
      "cell_type": "code",
      "metadata": {
        "id": "t71mFboKUp9t"
      },
      "source": [
        "# producto matricial\n"
      ],
      "execution_count": null,
      "outputs": []
    },
    {
      "cell_type": "markdown",
      "metadata": {
        "id": "npE58h2LUp9t"
      },
      "source": [
        "\n",
        "**Determinante de una matriz**"
      ]
    },
    {
      "cell_type": "code",
      "metadata": {
        "id": "bmn8Bs1AUp9t"
      },
      "source": [
        "# calcula el determinante de una matriz\n"
      ],
      "execution_count": null,
      "outputs": []
    },
    {
      "cell_type": "markdown",
      "metadata": {
        "id": "Q1bwdFR2Up9t"
      },
      "source": [
        "**Inversa de una matriz**"
      ]
    },
    {
      "cell_type": "markdown",
      "metadata": {
        "id": "yDk1Whx0Up9t"
      },
      "source": [
        "Para calcular la matriz inversa en Python, use la función linalg.inv () del módulo numpy."
      ]
    },
    {
      "cell_type": "markdown",
      "metadata": {
        "id": "EO6g3QA0Up9t"
      },
      "source": [
        "linalg.inv(x) \n",
        "\n",
        "El parámetro x de la función es una matriz cuadrada invertible M definida con la función array() de numpy. \n",
        "\n",
        "La función genera la matriz inversa M-1 de la matriz M."
      ]
    },
    {
      "cell_type": "markdown",
      "metadata": {
        "id": "J1tuJKRWUp9t"
      },
      "source": [
        "> ¿Qué es la matriz inversa? La matriz inversa M-1 de una matriz cuadrada es una matriz tal que el producto M · M-1 es igual a una matriz de identidad I."
      ]
    },
    {
      "cell_type": "markdown",
      "metadata": {
        "id": "eGrsE0AeUp9t"
      },
      "source": [
        "\n",
        "\n",
        "<img src=\"http://how.okpedia.org/data/okpediaorg/matrix-inverse-identity-formula.gif\" alt=\"drawing\" />\n"
      ]
    },
    {
      "cell_type": "markdown",
      "metadata": {
        "id": "jFURHftTUp9t"
      },
      "source": [
        "Encuentre la matriz inversa M-1 de la siguiente matriz invertible M."
      ]
    },
    {
      "cell_type": "markdown",
      "metadata": {
        "id": "f9hARXknUp9t"
      },
      "source": [
        "![](http://how.okpedia.org/data/okpediaorg/matrix-inverse-example-python-1.gif)"
      ]
    },
    {
      "cell_type": "code",
      "metadata": {
        "id": "9bAcriaGUp9t"
      },
      "source": [
        "m=np.array([[3,4,-1],[2,0,1],[1,3,-2]])"
      ],
      "execution_count": null,
      "outputs": []
    },
    {
      "cell_type": "code",
      "metadata": {
        "id": "REX5aSOUUp9t"
      },
      "source": [
        "# Calcula la matriz inversa con la función linalg.inv().\n"
      ],
      "execution_count": null,
      "outputs": []
    },
    {
      "cell_type": "markdown",
      "metadata": {
        "id": "7-mG07HtUp9t"
      },
      "source": [
        "La matriz de salida inversa es también un objeto array(). Se puede leer como una lista anidada. Los elementos de la matriz inversa son números reales.\n",
        "\n",
        "![](http://how.okpedia.org/data/okpediaorg/matrix-inverse-example-9.gif)"
      ]
    },
    {
      "cell_type": "markdown",
      "metadata": {
        "id": "h0fxGSauUp9t"
      },
      "source": [
        "Verificación. El producto de la matriz M para la matriz M-1 es una matriz de identidad.\n",
        "\n",
        "\n",
        "![](http://how.okpedia.org/data/okpediaorg/matrix-inverse-example-10.gif)"
      ]
    },
    {
      "cell_type": "code",
      "metadata": {
        "id": "5tqgE2mvUp9t"
      },
      "source": [
        "# verificación"
      ],
      "execution_count": null,
      "outputs": []
    },
    {
      "cell_type": "markdown",
      "metadata": {
        "id": "IeewVfKvUp9t"
      },
      "source": [
        "**Otro ejemplo** \n",
        "Encontrar el determinante y la matriz inversa de D.\n",
        "\n",
        "$ D = \\begin{equation}\n",
        "\\begin{bmatrix}\n",
        "1 & 2\\\\\n",
        "3 & 4\\\\\n",
        "\\end{bmatrix}\n",
        "\\end{equation}$\n"
      ]
    },
    {
      "cell_type": "code",
      "metadata": {
        "id": "SN_lZYaVUp9t"
      },
      "source": [
        "D = np.array([[1, 2], [3, 4]])\n",
        "D"
      ],
      "execution_count": null,
      "outputs": []
    },
    {
      "cell_type": "code",
      "metadata": {
        "id": "CXw_oiDDUp9t"
      },
      "source": [
        "# cálculo del determinante\n"
      ],
      "execution_count": null,
      "outputs": []
    },
    {
      "cell_type": "code",
      "metadata": {
        "id": "7CDuT719Up9t"
      },
      "source": [
        "# y el inverso\n"
      ],
      "execution_count": null,
      "outputs": []
    },
    {
      "cell_type": "markdown",
      "metadata": {
        "id": "LI5_9-gSUp9t"
      },
      "source": [
        "**Solución de ecuaciones con matrices**"
      ]
    },
    {
      "cell_type": "markdown",
      "metadata": {
        "id": "e9heT59mUp9t"
      },
      "source": [
        "1. Resolver el siguiente sistema de ecuaciones\n",
        "\n",
        "$\\begin{eqnarray}\n",
        "3x + y  = 9 \\\\\n",
        "x + 2y = 8 \\\\\n",
        "\\end{eqnarray}$"
      ]
    },
    {
      "cell_type": "code",
      "metadata": {
        "id": "olOnmTmNUp9t"
      },
      "source": [
        ""
      ],
      "execution_count": null,
      "outputs": []
    },
    {
      "cell_type": "markdown",
      "metadata": {
        "id": "H1Xvd46qUp9u"
      },
      "source": [
        "### Ejercicios"
      ]
    },
    {
      "cell_type": "markdown",
      "metadata": {
        "id": "H1GjuMkOUp9u"
      },
      "source": [
        "1- Hallar el producto de estas dos matrices y su determinante:\n",
        "\n",
        "$$\\begin{pmatrix} 1 & 0 & 0 \\\\ 2 & 1 & 1 \\\\ -1 & 0 & 1 \\end{pmatrix} \\begin{pmatrix} 2 & 3 & -1 \\\\ 0 & -2 & 1 \\\\ 0 & 0 & 3 \\end{pmatrix}$$"
      ]
    },
    {
      "cell_type": "code",
      "metadata": {
        "id": "46cE-e1AUp9u"
      },
      "source": [
        "from numpy.linalg import det"
      ],
      "execution_count": null,
      "outputs": []
    },
    {
      "cell_type": "code",
      "metadata": {
        "id": "9T7OD_MTUp9u"
      },
      "source": [
        ""
      ],
      "execution_count": null,
      "outputs": []
    },
    {
      "cell_type": "code",
      "metadata": {
        "id": "QfTSS3OCUp9u"
      },
      "source": [
        ""
      ],
      "execution_count": null,
      "outputs": []
    },
    {
      "cell_type": "code",
      "metadata": {
        "id": "zGwF10URUp9u"
      },
      "source": [
        ""
      ],
      "execution_count": null,
      "outputs": []
    },
    {
      "cell_type": "markdown",
      "metadata": {
        "id": "CoPNYszTUp9u"
      },
      "source": [
        "3- Resuelva el siguiente sistema de ecuaciones"
      ]
    },
    {
      "cell_type": "markdown",
      "metadata": {
        "id": "89cnyupeUp9u"
      },
      "source": [
        "$\\begin{eqnarray}\n",
        "x + 2y  = 3 \\\\\n",
        "3x + 4y = 5 \\\\\n",
        "\\end{eqnarray}$"
      ]
    },
    {
      "cell_type": "code",
      "metadata": {
        "id": "K5d4IBzXUp9u"
      },
      "source": [
        "\n"
      ],
      "execution_count": null,
      "outputs": []
    },
    {
      "cell_type": "markdown",
      "metadata": {
        "id": "5HOmx6OaUp9u"
      },
      "source": [
        "4- Un ingeniereo escribe dos ecuaciones que describen el circuito, como sigue: \n",
        "\n",
        "$\\begin{gather}\n",
        "300I_{1} + 500(I_{1}-I_{2})-20 = 0\\\\\n",
        "200I_{2} + 500(I_{2}-I_{1}) +10 = 0\\\\\n",
        "\\end{gather}$\n",
        "\n",
        "![circuito](https://github.com/lsantiago/PythonIntermedio/blob/master/Clases/Semana6_ALGEBRA/img/problem4.png?raw=1)\n",
        "\n",
        "Coloque las dos ecuaciones en forma estándar y resuelva las dos ecuaciones:"
      ]
    },
    {
      "cell_type": "code",
      "metadata": {
        "id": "0iy0eEiuUp9u"
      },
      "source": [
        ""
      ],
      "execution_count": null,
      "outputs": []
    },
    {
      "cell_type": "markdown",
      "metadata": {
        "id": "mSICGC9LUp9u"
      },
      "source": [
        "5- Resolver el siguiente sistema de ecuaciones\n",
        "\n",
        "![](https://github.com/lsantiago/PythonIntermedio/blob/master/Clases/Semana6_ALGEBRA/img/problem5.png?raw=1)"
      ]
    },
    {
      "cell_type": "code",
      "metadata": {
        "id": "SUMKyAZOUp9u"
      },
      "source": [
        ""
      ],
      "execution_count": null,
      "outputs": []
    },
    {
      "cell_type": "markdown",
      "metadata": {
        "id": "90B2laYmUp9u"
      },
      "source": [
        "3- Resolver el siguiente sistema:\n",
        "\n",
        "$$ \\begin{pmatrix} 2 & 0 & 0 \\\\ -1 & 1 & 0 \\\\ 3 & 2 & -1 \\end{pmatrix} \\begin{pmatrix} 1 & 1 & 1 \\\\ 0 & 1 & 2 \\\\ 0 & 0 & 1 \\end{pmatrix} \\begin{pmatrix} x \\\\ y \\\\ z \\end{pmatrix} = \\begin{pmatrix} -1 \\\\ 3 \\\\ 0 \\end{pmatrix} $$"
      ]
    },
    {
      "cell_type": "code",
      "metadata": {
        "id": "sNm7fo3HUp9u",
        "outputId": "93243500-c89a-4b23-e85d-09294a418ac4"
      },
      "source": [
        ""
      ],
      "execution_count": null,
      "outputs": [
        {
          "output_type": "execute_result",
          "data": {
            "text/plain": [
              "array([[ 2,  2,  2],\n",
              "       [-1,  0,  1],\n",
              "       [ 3,  5,  6]])"
            ]
          },
          "metadata": {
            "tags": []
          },
          "execution_count": 2
        }
      ]
    },
    {
      "cell_type": "code",
      "metadata": {
        "id": "JHHcrqQXUp9v",
        "outputId": "e63200a1-a225-4146-8bcc-d2d0ead64024"
      },
      "source": [
        ""
      ],
      "execution_count": null,
      "outputs": [
        {
          "output_type": "execute_result",
          "data": {
            "text/plain": [
              "array([ 0.5, -4.5,  3.5])"
            ]
          },
          "metadata": {
            "tags": []
          },
          "execution_count": 3
        }
      ]
    },
    {
      "cell_type": "code",
      "metadata": {
        "id": "jDUmVAJnUp9v",
        "outputId": "4d2b1305-7c7c-4908-9e98-042e6e4458bd"
      },
      "source": [
        ""
      ],
      "execution_count": null,
      "outputs": [
        {
          "output_type": "execute_result",
          "data": {
            "text/plain": [
              "True"
            ]
          },
          "metadata": {
            "tags": []
          },
          "execution_count": 4
        }
      ]
    }
  ]
}