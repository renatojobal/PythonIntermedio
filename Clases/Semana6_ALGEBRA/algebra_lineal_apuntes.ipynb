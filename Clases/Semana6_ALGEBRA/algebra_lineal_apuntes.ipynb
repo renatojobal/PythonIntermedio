{
 "cells": [
  {
   "cell_type": "markdown",
   "metadata": {
    "colab_type": "text",
    "id": "view-in-github"
   },
   "source": [
    "<a href=\"https://colab.research.google.com/github/lsantiago/PythonIntermedio/blob/master/Clases/Semana6_ALGEBRA/algebra_lineal_apuntes.ipynb\" target=\"_parent\"><img src=\"https://colab.research.google.com/assets/colab-badge.svg\" alt=\"Open In Colab\"/></a>"
   ]
  },
  {
   "cell_type": "markdown",
   "metadata": {
    "id": "7D6tCiguUp9p"
   },
   "source": [
    "# Clase Nro. 6: Álgebra Lineal"
   ]
  },
  {
   "cell_type": "markdown",
   "metadata": {
    "id": "dD4FjcYeUp9q"
   },
   "source": [
    "> El álgebra lineal es una rama de las matemáticas que estudia conceptos tales como vectores, matrices, espacio dual, sistemas de ecuaciones lineales y en su enfoque de manera más formal, espacios vectoriales y sus transformaciones lineales"
   ]
  },
  {
   "cell_type": "markdown",
   "metadata": {
    "id": "qnVIfQrjUp9q"
   },
   "source": [
    "np.linalg: paquete de álgebra lineal en NumPy \n",
    "\n",
    "- Funciones básicas \n",
    "    - vectores\n",
    "    - operaciones con vectores \n",
    "    - norma de un vector\n",
    "    - operaciones con matrices\n",
    "    - inversa de una matriz\n",
    "    - determinante\n",
    "- Resolución de sistemas\n"
   ]
  },
  {
   "cell_type": "markdown",
   "metadata": {
    "id": "xp3npLv-Up9q"
   },
   "source": [
    "_Con el manejo básico de arrays en Python con NumPy, es hora de pasar a operaciones más interesantes como son las propias del Álgebra Lineal._\n",
    "\n",
    "_Los productos escalares y las inversiones de matrices están por todas partes en los programas científicos e ingenieriles, así que vamos a estudiar cómo se realizan en Python._"
   ]
  },
  {
   "cell_type": "markdown",
   "metadata": {
    "id": "DBSsziPdUp9q"
   },
   "source": [
    "Como sabemos, las operaciones del álgebra lineal aparecen con mucha frecuencia a la hora de resolver sistemas de ecuaciones en derivadas parciales y en general al linealizar problemas de todo tipo, y suele ser necesario resolver sistemas con un número enorme de ecuaciones e incógnitas. Gracias a los arrays de NumPy podemos abordar este tipo de cálculos en Python, ya que todas las funciones están escritas en C o Fortran y tenemos la opción de usar bibliotecas optimizadas al límite."
   ]
  },
  {
   "cell_type": "markdown",
   "metadata": {
    "id": "WrYoiuWgUp9q"
   },
   "source": [
    "El paquete de álgebra lineal en NumPy se llama `linalg`, así que importando NumPy con la convención habitual podemos acceder a él escribiendo `np.linalg`. "
   ]
  },
  {
   "cell_type": "markdown",
   "metadata": {
    "id": "4hdmzYSxUp9q"
   },
   "source": [
    "**Pero ¿Porqué álgebra lineal?** \n",
    "\n",
    "Si entendemos álgebra lineal podremos desarrollar una mejor intuición para el aprendizaje automático y algoritmos. Además, también seremos capaces de desarrollar algoritmos desde cero y hacer variaciones de ellos."
   ]
  },
  {
   "cell_type": "markdown",
   "metadata": {
    "id": "uB2QGX6OUp9q"
   },
   "source": [
    "**¿Qué es un vector?**"
   ]
  },
  {
   "cell_type": "markdown",
   "metadata": {
    "id": "AFsDbULMUp9r"
   },
   "source": [
    "Un vector tiene tanto magnitud como dirección. Utilizamos vectores para describir, por ejemplo, la velocidad de objetos en movimiento."
   ]
  },
  {
   "cell_type": "markdown",
   "metadata": {
    "id": "ZV6E0GA4Up9r"
   },
   "source": [
    "Por dirección, se refiere a dónde en el espacio apunta la “flecha”, y la magnitud te dice qué tan lejos debes ir en esa dirección. Si solo tienes magnitud, pero no dirección, entonces estás hablando de escalares. Una vez que le das al escalar alguna dirección, se convierte en un vector.\n",
    "\n",
    "Un vector se representa con una letra minúscula y una flecha arriba, apuntando a la derecha"
   ]
  },
  {
   "cell_type": "markdown",
   "metadata": {
    "id": "XB3FNQPBUp9r"
   },
   "source": [
    "![vector](https://cdn-images-1.medium.com/max/800/1*6dAzelg6O36hbb74L7b1gQ.png)"
   ]
  },
  {
   "cell_type": "code",
   "execution_count": 1,
   "metadata": {},
   "outputs": [],
   "source": [
    "import numpy as np"
   ]
  },
  {
   "cell_type": "code",
   "execution_count": 2,
   "metadata": {},
   "outputs": [
    {
     "data": {
      "text/plain": [
       "array([3, 2])"
      ]
     },
     "execution_count": 2,
     "metadata": {},
     "output_type": "execute_result"
    }
   ],
   "source": [
    "V = np.array([3, 2])\n",
    "V"
   ]
  },
  {
   "cell_type": "markdown",
   "metadata": {
    "id": "l_HEFCK8Up9r"
   },
   "source": [
    "**Suma de vectores**"
   ]
  },
  {
   "cell_type": "markdown",
   "metadata": {
    "id": "NI3ZydZGUp9r"
   },
   "source": [
    "Para sumar los vectores (x₁,y₁) y (x₂,y₂), sumamos los componentes correspondientes de cada vector: (x₁+x₂,y₁+y₂)"
   ]
  },
  {
   "cell_type": "markdown",
   "metadata": {
    "id": "n5tjoyxTUp9r"
   },
   "source": [
    "![suma de vectores](https://cdn-images-1.medium.com/max/800/0*9r4Qmivh-MSPFqM3.png)"
   ]
  },
  {
   "cell_type": "code",
   "execution_count": 3,
   "metadata": {
    "id": "665kCpksUp9r"
   },
   "outputs": [
    {
     "data": {
      "text/plain": [
       "array([2, 2])"
      ]
     },
     "execution_count": 3,
     "metadata": {},
     "output_type": "execute_result"
    }
   ],
   "source": [
    "a = np.array([6, -2])\n",
    "b = np.array([-4, 4])\n",
    "a+b"
   ]
  },
  {
   "cell_type": "markdown",
   "metadata": {
    "id": "BHLNeYqZUp9r"
   },
   "source": [
    "**Multiplicar un vector por un escalar**"
   ]
  },
  {
   "cell_type": "markdown",
   "metadata": {
    "id": "_OZaIt32Up9r"
   },
   "source": [
    "![](https://cdn-images-1.medium.com/max/800/0*YNlBN98aoAyV4DAL.png)"
   ]
  },
  {
   "cell_type": "code",
   "execution_count": 4,
   "metadata": {
    "id": "q2ILkTEEUp9r"
   },
   "outputs": [
    {
     "name": "stdout",
     "output_type": "stream",
     "text": [
      "[6 3]\n"
     ]
    }
   ],
   "source": [
    "a = np.array([2, 1])\n",
    "print(3 * a)"
   ]
  },
  {
   "cell_type": "markdown",
   "metadata": {
    "id": "L2jlTujIUp9r"
   },
   "source": [
    "**Producto punto o escalar**"
   ]
  },
  {
   "cell_type": "markdown",
   "metadata": {
    "id": "J8cFe918Up9r"
   },
   "source": [
    "Esto suena raro, pero no es más que la multiplicación de vectores cuyo resultado es un escalar. Para calcular el producto escalar de dos vectores, primero debemos multiplicar los elementos correspondientes y luego sumar los términos del producto."
   ]
  },
  {
   "cell_type": "markdown",
   "metadata": {
    "id": "zAYbX8yyUp9r"
   },
   "source": [
    "En la siguiente fórmula lo vemos mucho más fácil"
   ]
  },
  {
   "cell_type": "markdown",
   "metadata": {
    "id": "K0jZmDXkUp9r"
   },
   "source": [
    "![image.png](https://cdn-images-1.medium.com/max/800/0*lMEmcY_nXD4LOvHD.png)"
   ]
  },
  {
   "cell_type": "markdown",
   "metadata": {
    "id": "gnHqr_9jUp9r"
   },
   "source": [
    "<img src=\"https://cdn-images-1.medium.com/max/800/1*ys1bMjlrtchr_ClPah7Z2w.png\" alt=\"drawing\" width=\"500\"/>"
   ]
  },
  {
   "cell_type": "code",
   "execution_count": 5,
   "metadata": {
    "id": "Tas4UYi-Up9r"
   },
   "outputs": [
    {
     "name": "stdout",
     "output_type": "stream",
     "text": [
      "10\n"
     ]
    }
   ],
   "source": [
    "a = np.array([3, 2])\n",
    "b = np.array([2, 2])\n",
    "print(a.dot(b))"
   ]
  },
  {
   "cell_type": "code",
   "execution_count": 6,
   "metadata": {},
   "outputs": [
    {
     "data": {
      "text/plain": [
       "10"
      ]
     },
     "execution_count": 6,
     "metadata": {},
     "output_type": "execute_result"
    }
   ],
   "source": [
    "np.dot(a, b)"
   ]
  },
  {
   "cell_type": "markdown",
   "metadata": {
    "id": "hrXKPD22Up9r"
   },
   "source": [
    "**Norma vectorial**"
   ]
  },
  {
   "cell_type": "markdown",
   "metadata": {
    "id": "EXqseG2jUp9s"
   },
   "source": [
    "La norma es solo otro término para la magnitud de un vector y se denota con dos lineas dobles (||) en cada lado. Se define como una raíz cuadrada de la suma de cuadrados para cada componente de un vector\n",
    "\n",
    "Pasos: \n",
    "- Elevar al cuadrado cada componente\n",
    "- Suma todos los cuadrados\n",
    "- Toma la raíz cuadrada\n",
    "\n",
    "Trabajemos ahora con la formula:"
   ]
  },
  {
   "cell_type": "markdown",
   "metadata": {
    "id": "GKpdJWNJUp9s"
   },
   "source": [
    "![](https://cdn-images-1.medium.com/max/800/0*fIYtRzCI6vI8THet.png)"
   ]
  },
  {
   "cell_type": "markdown",
   "metadata": {
    "id": "K6SAfycjUp9s"
   },
   "source": [
    "<img src=\"https://cdn-images-1.medium.com/max/800/1*95bAtiMefunHPhLbwOYnnQ.png\" alt=\"drawing\" width=\"500\"/>"
   ]
  },
  {
   "cell_type": "code",
   "execution_count": 8,
   "metadata": {
    "id": "8ENBZB-WUp9s"
   },
   "outputs": [
    {
     "name": "stdout",
     "output_type": "stream",
     "text": [
      "7.0\n"
     ]
    }
   ],
   "source": [
    "a = np.array([3, 2, 6])\n",
    "print(np.linalg.norm(a))"
   ]
  },
  {
   "cell_type": "markdown",
   "metadata": {
    "id": "9z3oP2FuUp9s"
   },
   "source": [
    "**Vector unitario**"
   ]
  },
  {
   "cell_type": "markdown",
   "metadata": {
    "id": "1oHYSZDNUp9s"
   },
   "source": [
    "Los vectores unitarios son aquellos cuya magnitud es exactamente 1 unidad. Son muy útiles por diversas razones. Específicamente, los vectores unitarios [0,1] y [1,0] juntos pueden formar cualquier otro vector.\n",
    "\n",
    "Un vector unitario se denota con mayor frecuencia con un símbolo de sombrero (^) y se determina calculando la norma y luego dividiendo cada componente del vector con la norma.\n",
    "\n",
    "Suena complejo, pero vamos a hacer un ejercicio para poder ver que es más complejo de lo que imaginamos"
   ]
  },
  {
   "cell_type": "markdown",
   "metadata": {
    "id": "oFcWU_bgUp9s"
   },
   "source": [
    "![](https://cdn-images-1.medium.com/max/800/0*3Qkk3weTeyaMYthE.png)"
   ]
  },
  {
   "cell_type": "markdown",
   "metadata": {
    "id": "apHMhCdDUp9s"
   },
   "source": [
    "<img src=\"https://cdn-images-1.medium.com/max/800/1*wFFS0a3soJRC7XlZxzJ6Kg.png\" alt=\"drawing\" width=\"400\" height=\"400\"/>"
   ]
  },
  {
   "cell_type": "code",
   "execution_count": 9,
   "metadata": {
    "id": "tDBRe6ylUp9s"
   },
   "outputs": [
    {
     "name": "stdout",
     "output_type": "stream",
     "text": [
      "[0.38411064 0.76822128 0.51214752]\n"
     ]
    }
   ],
   "source": [
    "def unit_vector(a):\n",
    "    return a/np.linalg.norm(a)\n",
    "\n",
    "u = np.array([3, 6, 4])\n",
    "print(unit_vector(u))"
   ]
  },
  {
   "cell_type": "markdown",
   "metadata": {
    "id": "VOYi2FhqUp9s"
   },
   "source": [
    "## Operaciones con matrices"
   ]
  },
  {
   "cell_type": "markdown",
   "metadata": {
    "id": "JEOuKHNsUp9s"
   },
   "source": [
    " ¿Qué es una matriz? Una matriz es simplemente un arreglo rectangular de números\n",
    " \n",
    "En data science las usamos un montón, así no nos demos cuenta. Es muy importante de diferenciar un vector de una matriz. En pocas palabras un vector es una sola columna (atributo) en su conjunto de datos y una matriz es una colección de todas las columnas"
   ]
  },
  {
   "cell_type": "markdown",
   "metadata": {
    "id": "HFbwrLqxUp9s"
   },
   "source": [
    "**Definición de matrices**"
   ]
  },
  {
   "cell_type": "markdown",
   "metadata": {
    "id": "TrdRo0i3Up9s"
   },
   "source": [
    "$A = \\begin{equation}\n",
    "\\begin{bmatrix}\n",
    "1 & 2 & 3\\\\\n",
    "4 & 5 & 6\\\\\n",
    "\\end{bmatrix}\n",
    "\\end{equation}$"
   ]
  },
  {
   "cell_type": "code",
   "execution_count": 11,
   "metadata": {
    "id": "lYZJx_1rUp9s"
   },
   "outputs": [
    {
     "data": {
      "text/plain": [
       "array([[1, 2, 3],\n",
       "       [4, 5, 6]])"
      ]
     },
     "execution_count": 11,
     "metadata": {},
     "output_type": "execute_result"
    }
   ],
   "source": [
    "A = np.array([\n",
    "    [1, 2, 3], \n",
    "    [4, 5, 6]\n",
    "])\n",
    "A"
   ]
  },
  {
   "cell_type": "markdown",
   "metadata": {
    "id": "i9Xe_x-LUp9s"
   },
   "source": [
    "$B = \\begin{equation}\n",
    "\\begin{bmatrix}\n",
    "5 & 5 & 5\\\\\n",
    "5 & 5 & 5\\\\\n",
    "\\end{bmatrix}\n",
    "\\end{equation}$"
   ]
  },
  {
   "cell_type": "code",
   "execution_count": 12,
   "metadata": {
    "id": "-I2dv_y-Up9s"
   },
   "outputs": [
    {
     "data": {
      "text/plain": [
       "array([[5, 5, 5],\n",
       "       [5, 5, 5]])"
      ]
     },
     "execution_count": 12,
     "metadata": {},
     "output_type": "execute_result"
    }
   ],
   "source": [
    "B = np.full((2, 3), 5)\n",
    "B"
   ]
  },
  {
   "cell_type": "markdown",
   "metadata": {
    "id": "BUMyS848Up9s"
   },
   "source": [
    "$v = \\begin{equation}\n",
    "\\begin{bmatrix}\n",
    "6\\\\\n",
    "7\\\\\n",
    "8\n",
    "\\end{bmatrix}\n",
    "\\end{equation}$"
   ]
  },
  {
   "cell_type": "code",
   "execution_count": 15,
   "metadata": {
    "id": "fREy5TTrUp9s"
   },
   "outputs": [
    {
     "data": {
      "text/plain": [
       "array([6, 7, 8])"
      ]
     },
     "execution_count": 15,
     "metadata": {},
     "output_type": "execute_result"
    }
   ],
   "source": [
    "v = np.array([6, 7, 8])\n",
    "v"
   ]
  },
  {
   "cell_type": "code",
   "execution_count": 16,
   "metadata": {},
   "outputs": [
    {
     "data": {
      "text/plain": [
       "array([[6],\n",
       "       [7],\n",
       "       [8]])"
      ]
     },
     "execution_count": 16,
     "metadata": {},
     "output_type": "execute_result"
    }
   ],
   "source": [
    "v.reshape(3, 1)"
   ]
  },
  {
   "cell_type": "code",
   "execution_count": 25,
   "metadata": {},
   "outputs": [
    {
     "data": {
      "text/plain": [
       "array([[0.26159254, 0.35669711, 0.70822817, 0.82603537, 0.12198188],\n",
       "       [0.38912962, 0.13786627, 0.48969985, 0.14139557, 0.30644094]])"
      ]
     },
     "execution_count": 25,
     "metadata": {},
     "output_type": "execute_result"
    }
   ],
   "source": [
    "#Generación de matriz con números aleatorios\n",
    "M = np.random.rand(10).reshape(2, 5)\n",
    "M"
   ]
  },
  {
   "cell_type": "code",
   "execution_count": 20,
   "metadata": {},
   "outputs": [
    {
     "data": {
      "text/plain": [
       "0.1869780014242599"
      ]
     },
     "execution_count": 20,
     "metadata": {},
     "output_type": "execute_result"
    }
   ],
   "source": [
    "M[0][0]"
   ]
  },
  {
   "cell_type": "code",
   "execution_count": 21,
   "metadata": {},
   "outputs": [
    {
     "data": {
      "text/plain": [
       "0.1869780014242599"
      ]
     },
     "execution_count": 21,
     "metadata": {},
     "output_type": "execute_result"
    }
   ],
   "source": [
    "M[0, 0]"
   ]
  },
  {
   "cell_type": "code",
   "execution_count": 22,
   "metadata": {},
   "outputs": [
    {
     "data": {
      "text/plain": [
       "array([0.186978  , 0.78673675])"
      ]
     },
     "execution_count": 22,
     "metadata": {},
     "output_type": "execute_result"
    }
   ],
   "source": [
    "M[0]"
   ]
  },
  {
   "cell_type": "code",
   "execution_count": 29,
   "metadata": {},
   "outputs": [
    {
     "data": {
      "text/plain": [
       "0.3064409440254877"
      ]
     },
     "execution_count": 29,
     "metadata": {},
     "output_type": "execute_result"
    }
   ],
   "source": [
    "M[1,-1]"
   ]
  },
  {
   "cell_type": "code",
   "execution_count": 30,
   "metadata": {},
   "outputs": [
    {
     "data": {
      "text/plain": [
       "array([[ 1,  2,  3,  4,  5],\n",
       "       [ 6,  7,  8,  9, 10]])"
      ]
     },
     "execution_count": 30,
     "metadata": {},
     "output_type": "execute_result"
    }
   ],
   "source": [
    "arreglo = np.arange(1,11).reshape(2, 5)\n",
    "arreglo"
   ]
  },
  {
   "cell_type": "code",
   "execution_count": 31,
   "metadata": {},
   "outputs": [
    {
     "data": {
      "text/plain": [
       "array([0, 3, 6, 9])"
      ]
     },
     "execution_count": 31,
     "metadata": {},
     "output_type": "execute_result"
    }
   ],
   "source": [
    "np.arange(0, 11, 3)"
   ]
  },
  {
   "cell_type": "code",
   "execution_count": 33,
   "metadata": {},
   "outputs": [
    {
     "data": {
      "text/plain": [
       "array([ 0.        ,  2.22222222,  4.44444444,  6.66666667,  8.88888889,\n",
       "       11.11111111, 13.33333333, 15.55555556, 17.77777778, 20.        ])"
      ]
     },
     "execution_count": 33,
     "metadata": {},
     "output_type": "execute_result"
    }
   ],
   "source": [
    "np.linspace(0, 20, 10)"
   ]
  },
  {
   "cell_type": "code",
   "execution_count": 37,
   "metadata": {},
   "outputs": [
    {
     "data": {
      "text/plain": [
       "array([   1.        ,    1.07226722,    1.149757  ,    1.23284674,\n",
       "          1.32194115,    1.41747416,    1.51991108,    1.62975083,\n",
       "          1.7475284 ,    1.87381742,    2.009233  ,    2.15443469,\n",
       "          2.3101297 ,    2.47707636,    2.65608778,    2.84803587,\n",
       "          3.05385551,    3.27454916,    3.51119173,    3.76493581,\n",
       "          4.03701726,    4.32876128,    4.64158883,    4.97702356,\n",
       "          5.33669923,    5.72236766,    6.13590727,    6.57933225,\n",
       "          7.05480231,    7.56463328,    8.11130831,    8.69749003,\n",
       "          9.32603347,   10.        ,   10.72267222,   11.49756995,\n",
       "         12.32846739,   13.21941148,   14.17474163,   15.19911083,\n",
       "         16.29750835,   17.475284  ,   18.73817423,   20.09233003,\n",
       "         21.5443469 ,   23.101297  ,   24.77076356,   26.56087783,\n",
       "         28.48035868,   30.53855509,   32.74549163,   35.11191734,\n",
       "         37.64935807,   40.37017259,   43.28761281,   46.41588834,\n",
       "         49.77023564,   53.36699231,   57.22367659,   61.35907273,\n",
       "         65.79332247,   70.54802311,   75.64633276,   81.11308308,\n",
       "         86.97490026,   93.26033469,  100.        ,  107.2267222 ,\n",
       "        114.97569954,  123.28467394,  132.19411485,  141.74741629,\n",
       "        151.9911083 ,  162.97508346,  174.75284   ,  187.38174229,\n",
       "        200.92330026,  215.443469  ,  231.01297001,  247.7076356 ,\n",
       "        265.60877829,  284.80358684,  305.38555088,  327.45491629,\n",
       "        351.11917342,  376.49358068,  403.70172586,  432.87612811,\n",
       "        464.15888336,  497.70235643,  533.66992312,  572.23676594,\n",
       "        613.59072734,  657.93322466,  705.48023107,  756.46332755,\n",
       "        811.13083079,  869.74900262,  932.60334688, 1000.        ])"
      ]
     },
     "execution_count": 37,
     "metadata": {},
     "output_type": "execute_result"
    }
   ],
   "source": [
    "np.logspace(0, 3, 100)"
   ]
  },
  {
   "cell_type": "code",
   "execution_count": 39,
   "metadata": {},
   "outputs": [],
   "source": [
    "#np.logspace?"
   ]
  },
  {
   "cell_type": "code",
   "execution_count": 40,
   "metadata": {},
   "outputs": [
    {
     "data": {
      "text/plain": [
       "41"
      ]
     },
     "execution_count": 40,
     "metadata": {},
     "output_type": "execute_result"
    }
   ],
   "source": [
    "np.random.randint(1, 100)"
   ]
  },
  {
   "cell_type": "code",
   "execution_count": 41,
   "metadata": {},
   "outputs": [
    {
     "data": {
      "text/plain": [
       "array([[69, 47, 80, 99],\n",
       "       [92, 25, 88, 61],\n",
       "       [43, 20, 64, 44],\n",
       "       [89, 48, 51, 34],\n",
       "       [ 9, 97, 74, 17]])"
      ]
     },
     "execution_count": 41,
     "metadata": {},
     "output_type": "execute_result"
    }
   ],
   "source": [
    "np.random.randint(1, 100, 20).reshape(5, 4)"
   ]
  },
  {
   "cell_type": "markdown",
   "metadata": {
    "id": "ZsJH3-HtUp9s"
   },
   "source": [
    "**Suma de matrices**"
   ]
  },
  {
   "cell_type": "markdown",
   "metadata": {
    "id": "C7sYl9_ZUp9s"
   },
   "source": [
    "![](https://cdn-images-1.medium.com/max/1600/0*eKgiNEikBO09MCN1.png)"
   ]
  },
  {
   "cell_type": "code",
   "execution_count": 42,
   "metadata": {
    "id": "xtj-iC-gUp9s"
   },
   "outputs": [
    {
     "data": {
      "text/plain": [
       "array([[ 6,  7,  8],\n",
       "       [ 9, 10, 11]])"
      ]
     },
     "execution_count": 42,
     "metadata": {},
     "output_type": "execute_result"
    }
   ],
   "source": [
    "A+B"
   ]
  },
  {
   "cell_type": "markdown",
   "metadata": {
    "id": "FnTYyxREUp9s"
   },
   "source": [
    "**Resta de matrices**"
   ]
  },
  {
   "cell_type": "code",
   "execution_count": null,
   "metadata": {
    "id": "jEUgMT1wUp9s"
   },
   "outputs": [],
   "source": [
    "A-B"
   ]
  },
  {
   "cell_type": "markdown",
   "metadata": {
    "id": "r1m-1T3oUp9s"
   },
   "source": [
    "**Multiplicación por un escalar**"
   ]
  },
  {
   "cell_type": "markdown",
   "metadata": {
    "id": "sCnKsgPBUp9s"
   },
   "source": [
    "![](https://cdn-images-1.medium.com/max/1600/0*RMuq3SZ_8Z4KE-48.png)"
   ]
  },
  {
   "cell_type": "code",
   "execution_count": 43,
   "metadata": {
    "id": "KeiLGsfEUp9s"
   },
   "outputs": [
    {
     "data": {
      "text/plain": [
       "array([[3, 5],\n",
       "       [1, 0]])"
      ]
     },
     "execution_count": 43,
     "metadata": {},
     "output_type": "execute_result"
    }
   ],
   "source": [
    "C = np.array([\n",
    "    [3, 5],\n",
    "    [1, 0]\n",
    "])\n",
    "C"
   ]
  },
  {
   "cell_type": "code",
   "execution_count": 44,
   "metadata": {},
   "outputs": [
    {
     "name": "stdout",
     "output_type": "stream",
     "text": [
      "[[ 6 10]\n",
      " [ 2  0]]\n"
     ]
    }
   ],
   "source": [
    "print(2 * C)"
   ]
  },
  {
   "cell_type": "markdown",
   "metadata": {
    "id": "x9aOOczdUp9s"
   },
   "source": [
    "**Matriz transpuesta**"
   ]
  },
  {
   "cell_type": "markdown",
   "metadata": {
    "id": "bdIk_b2FUp9s"
   },
   "source": [
    "![](https://cdn-images-1.medium.com/max/1600/0*mrjFrMfmMcj4xsUe.png)"
   ]
  },
  {
   "cell_type": "code",
   "execution_count": 47,
   "metadata": {
    "id": "FufqeVuhUp9s"
   },
   "outputs": [
    {
     "name": "stdout",
     "output_type": "stream",
     "text": [
      "[[3 4]\n",
      " [1 0]]\n",
      "[[3 1]\n",
      " [4 0]]\n"
     ]
    }
   ],
   "source": [
    "D = np.array([\n",
    "    [3, 4],\n",
    "    [1, 0]\n",
    "])\n",
    "print(D)\n",
    "print(D.T)"
   ]
  },
  {
   "cell_type": "markdown",
   "metadata": {
    "id": "7XCW0ZuOUp9s"
   },
   "source": [
    "**Matriz identidad**"
   ]
  },
  {
   "cell_type": "code",
   "execution_count": 50,
   "metadata": {
    "id": "L-CuxRrnUp9s"
   },
   "outputs": [
    {
     "data": {
      "text/plain": [
       "array([[1., 0., 0., 0., 0.],\n",
       "       [0., 1., 0., 0., 0.],\n",
       "       [0., 0., 1., 0., 0.],\n",
       "       [0., 0., 0., 1., 0.],\n",
       "       [0., 0., 0., 0., 1.]])"
      ]
     },
     "execution_count": 50,
     "metadata": {},
     "output_type": "execute_result"
    }
   ],
   "source": [
    "I = np.identity(5)\n",
    "I"
   ]
  },
  {
   "cell_type": "code",
   "execution_count": 52,
   "metadata": {
    "id": "_dtKrJ6NUp9s"
   },
   "outputs": [],
   "source": [
    "#help(np.linalg)"
   ]
  },
  {
   "cell_type": "markdown",
   "metadata": {
    "id": "LjABsZ_4Up9s"
   },
   "source": [
    "Recordemos que si queremos usar una función de un paquete pero no queremos escribir la \"ruta\" completa cada vez, podemos usar la sintaxis `from package import func`:"
   ]
  },
  {
   "cell_type": "code",
   "execution_count": null,
   "metadata": {
    "id": "HVnJcv03Up9s"
   },
   "outputs": [],
   "source": [
    "from numpy.linalg import norm, det\n",
    "norm"
   ]
  },
  {
   "cell_type": "markdown",
   "metadata": {
    "id": "3HUyOqRyUp9s"
   },
   "source": [
    "El producto matricial usual (no el que se hace elemento a elemento, sino el del álgebra lineal) se calcula con la misma función que el producto matriz-vector y el producto escalar vector-vector: con la función `dot`, que **no** está en el paquete `linalg` sino directamente en `numpy` y no hace falta importarlo."
   ]
  },
  {
   "cell_type": "code",
   "execution_count": null,
   "metadata": {
    "id": "GXXlCNCoUp9s"
   },
   "outputs": [],
   "source": [
    "np.dot"
   ]
  },
  {
   "cell_type": "markdown",
   "metadata": {
    "id": "P9-wMfltUp9s"
   },
   "source": [
    "Una consideración importante a tener en cuenta es que en NumPy no hace falta ser estricto a la hora de manejar vectores como si fueran matrices columna, siempre que la operación sea consistente. Un vector es una matriz con una sola dimensión: por eso si calculamos su traspuesta no funciona."
   ]
  },
  {
   "cell_type": "code",
   "execution_count": 53,
   "metadata": {
    "id": "90aH7DPwUp9t"
   },
   "outputs": [],
   "source": [
    "M = np.array([\n",
    "    [1, 2],\n",
    "    [3, 4]\n",
    "])\n",
    "v = np.array([1, -1])"
   ]
  },
  {
   "cell_type": "code",
   "execution_count": 55,
   "metadata": {},
   "outputs": [
    {
     "data": {
      "text/plain": [
       "array([ 1, -1])"
      ]
     },
     "execution_count": 55,
     "metadata": {},
     "output_type": "execute_result"
    }
   ],
   "source": [
    "v"
   ]
  },
  {
   "cell_type": "markdown",
   "metadata": {
    "id": "qu7M0s2sUp9t"
   },
   "source": [
    "v"
   ]
  },
  {
   "cell_type": "code",
   "execution_count": 54,
   "metadata": {
    "id": "waj2W95NUp9t"
   },
   "outputs": [
    {
     "data": {
      "text/plain": [
       "array([[1, 3],\n",
       "       [2, 4]])"
      ]
     },
     "execution_count": 54,
     "metadata": {},
     "output_type": "execute_result"
    }
   ],
   "source": [
    "M.T"
   ]
  },
  {
   "cell_type": "code",
   "execution_count": 56,
   "metadata": {
    "id": "VFm92L3hUp9t"
   },
   "outputs": [
    {
     "data": {
      "text/plain": [
       "array([ 1, -1])"
      ]
     },
     "execution_count": 56,
     "metadata": {},
     "output_type": "execute_result"
    }
   ],
   "source": [
    "v.T"
   ]
  },
  {
   "cell_type": "code",
   "execution_count": 59,
   "metadata": {
    "id": "emrun56GUp9t"
   },
   "outputs": [
    {
     "data": {
      "text/plain": [
       "array([[ 1, -1]])"
      ]
     },
     "execution_count": 59,
     "metadata": {},
     "output_type": "execute_result"
    }
   ],
   "source": [
    "v.reshape(2,1).T"
   ]
  },
  {
   "cell_type": "code",
   "execution_count": 60,
   "metadata": {
    "id": "Jp9m68HhUp9t"
   },
   "outputs": [
    {
     "data": {
      "text/plain": [
       "array([-1, -1])"
      ]
     },
     "execution_count": 60,
     "metadata": {},
     "output_type": "execute_result"
    }
   ],
   "source": [
    "u = np.dot(M, v)\n",
    "u"
   ]
  },
  {
   "cell_type": "markdown",
   "metadata": {
    "id": "ZAPTztxWUp9t"
   },
   "source": [
    "**Multiplicación entre matrices**"
   ]
  },
  {
   "cell_type": "code",
   "execution_count": 64,
   "metadata": {
    "id": "MyDg727aUp9t"
   },
   "outputs": [
    {
     "name": "stdout",
     "output_type": "stream",
     "text": [
      "(2, 2)\n",
      "(2, 2)\n"
     ]
    }
   ],
   "source": [
    "A = np.array([\n",
    "    [3, 2],\n",
    "    [1, 3]\n",
    "])\n",
    "print(a.shape)\n",
    "B = np.array([\n",
    "    [2, 2],\n",
    "    [1, 2]\n",
    "])\n",
    "print(b.shape)\n",
    "\n",
    "#Amxn\n",
    "#Bcxd\n",
    "\n",
    "#n == c\n"
   ]
  },
  {
   "cell_type": "code",
   "execution_count": 65,
   "metadata": {
    "id": "t71mFboKUp9t"
   },
   "outputs": [
    {
     "data": {
      "text/plain": [
       "array([[ 8, 10],\n",
       "       [ 5,  8]])"
      ]
     },
     "execution_count": 65,
     "metadata": {},
     "output_type": "execute_result"
    }
   ],
   "source": [
    "# producto matricial\n",
    "np.dot(A, B)"
   ]
  },
  {
   "cell_type": "markdown",
   "metadata": {},
   "source": [
    "### Ejemplo de vídeo\n"
   ]
  },
  {
   "cell_type": "code",
   "execution_count": 67,
   "metadata": {},
   "outputs": [
    {
     "name": "stdout",
     "output_type": "stream",
     "text": [
      "[[-20  63  -7]\n",
      " [ -2  26 -19]]\n"
     ]
    }
   ],
   "source": [
    "A = np.array([\n",
    "    [5, 3, -4, -2],\n",
    "    [8, -1, 0, -3]\n",
    "    \n",
    "])\n",
    "B = np.array([\n",
    "    [1, 4, 0],\n",
    "    [-5, 3, 7],\n",
    "    [0, -9, 5],\n",
    "    [5, 1, 4]\n",
    "])\n",
    "\n",
    "res = np.dot(A, B)\n",
    "print(res)"
   ]
  },
  {
   "cell_type": "markdown",
   "metadata": {
    "id": "npE58h2LUp9t"
   },
   "source": [
    "\n",
    "**Determinante de una matriz**"
   ]
  },
  {
   "cell_type": "code",
   "execution_count": 68,
   "metadata": {
    "id": "bmn8Bs1AUp9t"
   },
   "outputs": [],
   "source": [
    "# calcula el determinante de una matriz\n",
    "A = np.array([\n",
    "    [3, 2],\n",
    "    [1, 3]\n",
    "])"
   ]
  },
  {
   "cell_type": "code",
   "execution_count": 69,
   "metadata": {},
   "outputs": [
    {
     "data": {
      "text/plain": [
       "7.000000000000001"
      ]
     },
     "execution_count": 69,
     "metadata": {},
     "output_type": "execute_result"
    }
   ],
   "source": [
    "np.linalg.det(A)"
   ]
  },
  {
   "cell_type": "markdown",
   "metadata": {
    "id": "Q1bwdFR2Up9t"
   },
   "source": [
    "**Inversa de una matriz**"
   ]
  },
  {
   "cell_type": "markdown",
   "metadata": {
    "id": "yDk1Whx0Up9t"
   },
   "source": [
    "Para calcular la matriz inversa en Python, use la función linalg.inv () del módulo numpy."
   ]
  },
  {
   "cell_type": "markdown",
   "metadata": {
    "id": "EO6g3QA0Up9t"
   },
   "source": [
    "linalg.inv(x) \n",
    "\n",
    "El parámetro x de la función es una matriz cuadrada invertible M definida con la función array() de numpy. \n",
    "\n",
    "La función genera la matriz inversa M-1 de la matriz M."
   ]
  },
  {
   "cell_type": "markdown",
   "metadata": {
    "id": "J1tuJKRWUp9t"
   },
   "source": [
    "> ¿Qué es la matriz inversa? La matriz inversa M-1 de una matriz cuadrada es una matriz tal que el producto M · M-1 es igual a una matriz de identidad I."
   ]
  },
  {
   "cell_type": "markdown",
   "metadata": {
    "id": "eGrsE0AeUp9t"
   },
   "source": [
    "\n",
    "\n",
    "<img src=\"http://how.okpedia.org/data/okpediaorg/matrix-inverse-identity-formula.gif\" alt=\"drawing\" />\n"
   ]
  },
  {
   "cell_type": "markdown",
   "metadata": {
    "id": "jFURHftTUp9t"
   },
   "source": [
    "Encuentre la matriz inversa M-1 de la siguiente matriz invertible M."
   ]
  },
  {
   "cell_type": "markdown",
   "metadata": {
    "id": "f9hARXknUp9t"
   },
   "source": [
    "![](http://how.okpedia.org/data/okpediaorg/matrix-inverse-example-python-1.gif)"
   ]
  },
  {
   "cell_type": "code",
   "execution_count": 70,
   "metadata": {
    "id": "9bAcriaGUp9t"
   },
   "outputs": [],
   "source": [
    "M=np.array([\n",
    "    [3,4,-1],\n",
    "    [2,0,1],\n",
    "    [1,3,-2]\n",
    "])"
   ]
  },
  {
   "cell_type": "code",
   "execution_count": 71,
   "metadata": {
    "id": "REX5aSOUUp9t"
   },
   "outputs": [
    {
     "data": {
      "text/plain": [
       "array([[-0.6,  1. ,  0.8],\n",
       "       [ 1. , -1. , -1. ],\n",
       "       [ 1.2, -1. , -1.6]])"
      ]
     },
     "execution_count": 71,
     "metadata": {},
     "output_type": "execute_result"
    }
   ],
   "source": [
    "# Calcula la matriz inversa con la función linalg.inv().\n",
    "Minv = np.linalg.inv(M)\n",
    "Minv"
   ]
  },
  {
   "cell_type": "markdown",
   "metadata": {
    "id": "7-mG07HtUp9t"
   },
   "source": [
    "La matriz de salida inversa es también un objeto array(). Se puede leer como una lista anidada. Los elementos de la matriz inversa son números reales.\n",
    "\n",
    "![](http://how.okpedia.org/data/okpediaorg/matrix-inverse-example-9.gif)"
   ]
  },
  {
   "cell_type": "markdown",
   "metadata": {
    "id": "h0fxGSauUp9t"
   },
   "source": [
    "Verificación. El producto de la matriz M para la matriz M-1 es una matriz de identidad.\n",
    "\n",
    "\n",
    "![](http://how.okpedia.org/data/okpediaorg/matrix-inverse-example-10.gif)"
   ]
  },
  {
   "cell_type": "code",
   "execution_count": 73,
   "metadata": {
    "id": "5tqgE2mvUp9t"
   },
   "outputs": [
    {
     "data": {
      "text/plain": [
       "array([[ 1., -0., -0.],\n",
       "       [ 0.,  1., -0.],\n",
       "       [ 0., -0.,  1.]])"
      ]
     },
     "execution_count": 73,
     "metadata": {},
     "output_type": "execute_result"
    }
   ],
   "source": [
    "# verificación\n",
    "Mident = np.dot(M, Minv)\n",
    "np.round(Mident)"
   ]
  },
  {
   "cell_type": "markdown",
   "metadata": {
    "id": "IeewVfKvUp9t"
   },
   "source": [
    "**Otro ejemplo** \n",
    "Encontrar el determinante y la matriz inversa de D.\n",
    "\n",
    "$ D = \\begin{equation}\n",
    "\\begin{bmatrix}\n",
    "1 & 2\\\\\n",
    "3 & 4\\\\\n",
    "\\end{bmatrix}\n",
    "\\end{equation}$\n"
   ]
  },
  {
   "cell_type": "code",
   "execution_count": 74,
   "metadata": {
    "id": "SN_lZYaVUp9t"
   },
   "outputs": [
    {
     "data": {
      "text/plain": [
       "array([[1, 2],\n",
       "       [3, 4]])"
      ]
     },
     "execution_count": 74,
     "metadata": {},
     "output_type": "execute_result"
    }
   ],
   "source": [
    "D = np.array([[1, 2], [3, 4]])\n",
    "D"
   ]
  },
  {
   "cell_type": "code",
   "execution_count": 75,
   "metadata": {
    "id": "CXw_oiDDUp9t"
   },
   "outputs": [
    {
     "data": {
      "text/plain": [
       "-2.0000000000000004"
      ]
     },
     "execution_count": 75,
     "metadata": {},
     "output_type": "execute_result"
    }
   ],
   "source": [
    "# cálculo del determinante\n",
    "np.linalg.det(D)"
   ]
  },
  {
   "cell_type": "code",
   "execution_count": 76,
   "metadata": {
    "id": "7CDuT719Up9t"
   },
   "outputs": [
    {
     "data": {
      "text/plain": [
       "array([[-2. ,  1. ],\n",
       "       [ 1.5, -0.5]])"
      ]
     },
     "execution_count": 76,
     "metadata": {},
     "output_type": "execute_result"
    }
   ],
   "source": [
    "# y el inverso\n",
    "np.linalg.inv(D)"
   ]
  },
  {
   "cell_type": "markdown",
   "metadata": {
    "id": "LI5_9-gSUp9t"
   },
   "source": [
    "**Solución de ecuaciones con matrices**"
   ]
  },
  {
   "cell_type": "markdown",
   "metadata": {
    "id": "e9heT59mUp9t"
   },
   "source": [
    "1. Resolver el siguiente sistema de ecuaciones\n",
    "\n",
    "$\\begin{eqnarray}\n",
    "3x + y  = 9 \\\\\n",
    "x + 2y = 8 \\\\\n",
    "\\end{eqnarray}$"
   ]
  },
  {
   "cell_type": "code",
   "execution_count": 77,
   "metadata": {
    "id": "olOnmTmNUp9t"
   },
   "outputs": [
    {
     "data": {
      "text/plain": [
       "array([2., 3.])"
      ]
     },
     "execution_count": 77,
     "metadata": {},
     "output_type": "execute_result"
    }
   ],
   "source": [
    "coef = np.array([\n",
    "    [3, 1],\n",
    "    [1, 2]\n",
    "])\n",
    "\n",
    "result = np.array([9, 8])\n",
    "\n",
    "sol = np.linalg.solve(coef, result)\n",
    "sol\n"
   ]
  },
  {
   "cell_type": "markdown",
   "metadata": {},
   "source": [
    "2. Al resolver un problema de circuito eléctrico, uno se encuentra rápidamente empantanado en\n",
    "una gran cantidad de ecuaciones simultáneas. Por ejemplo, considere el circuito eléctrico que se\n",
    "muestra en la figura 9.5. Contiene una sola fuente de voltaje y cinco reóstatos. Puede analizar este\n",
    "circuito al dividirlo en partes más pequeñas y usar dos hechos básicos en torno a la electricidad\n",
    "\n",
    "Sumatoria de voltaje alrededor de un circuito debe ser cero\n",
    "Voltaje = corriente x resistencia (V = iR)\n",
    "\n",
    "Seguir el lazo inferior izquierdo resulta en la primera ecuación:\n",
    "\n",
    "$-V_1 +R_2(i_1-i_2)+R_4(i_1-i_3)=0$\n",
    "\n",
    "Seguir el lazo superior resulta en la segunda ecuación:\n",
    "\n",
    "$R_1i_2+R_3(i_2-i_3)+R_2(i_2-i_1)=0$\n",
    "\n",
    "Finalmente, seguir el lazo inferior derecho resulta en la última ecuación:\n",
    "\n",
    "$R_3(i_3-i_2)+R_5i_3+R_4(i_3-i_1)=0$\n",
    "\n",
    "Dado que se conocen todas las resistencias (los valores R) y el voltaje, se tienen tres ecuaciones y tres incógnitas. Ahora se necesita reordenar las ecuaciones de modo que estén en una forma en la que se pueda aplicar una solución matricial. En otras palabras, se necesita aislar las íes del modo siguiente:\n",
    "\n",
    "![](./img/resistencias.png)\n",
    "\n",
    "Cree un programa Python para resolver estas ecuaciones con el método de matriz inversa y empleando el método solve de linalg. \n",
    "\n",
    "![](./img/Figura9.5.png)"
   ]
  },
  {
   "cell_type": "markdown",
   "metadata": {},
   "source": [
    "1. Establezca el problema.\n",
    "\n",
    "Encontrar las tres corrientes para el circuito que se muestra.\n",
    "\n",
    "2. Describa las entradas y salidas.\n",
    "\n",
    "Entrada\n",
    " Cinco resistencias R1, R2, R3, R4, R5 y el voltaje V, proporcionados desde el teclado\n",
    "\n",
    "Salida\n",
    " Tres valores de corrientes i1, i2, i3\n",
    "3. Desarrolle una solución en Python"
   ]
  },
  {
   "cell_type": "code",
   "execution_count": 81,
   "metadata": {},
   "outputs": [
    {
     "name": "stdin",
     "output_type": "stream",
     "text": [
      "Ingrese 5 resistencias:  2 4 6 8 10\n",
      "Ingrese el valor del voltaje:  10\n"
     ]
    },
    {
     "name": "stdout",
     "output_type": "stream",
     "text": [
      "[1.69354839 0.96774194 0.80645161]\n",
      "[1.69354839 0.96774194 0.80645161]\n"
     ]
    }
   ],
   "source": [
    "import numpy as np\n",
    "\n",
    "R = [float(sR) for sR in input(\"Ingrese 5 resistencias: \").split('')]\n",
    "V = float(input(\"Ingrese el valor del voltaje: \"))\n",
    "\n",
    "R1 = R[0]\n",
    "R2 = R[1]\n",
    "R3 = R[2]\n",
    "R4 = R[3]\n",
    "R5 = R[4]\n",
    "\n",
    "coef = np.array([\n",
    "    [(R2+R4), -R2, -R4],\n",
    "    [-R2, (R1+R2+R3), -R3],\n",
    "    [-R4, -R3, (R3+R4+R5)]\n",
    "])\n",
    "\n",
    "result = np.array([V, 0, 0])\n",
    "\n",
    "# Primer método\n",
    "I = np.linalg.solve(coef, result)\n",
    "print(I)\n",
    "\n",
    "# Segundo método\n",
    "I = np.dot(np.linalg.inv(coef), result)\n",
    "print(I)"
   ]
  },
  {
   "cell_type": "markdown",
   "metadata": {},
   "source": [
    "#### Lectura de una matriz"
   ]
  },
  {
   "cell_type": "code",
   "execution_count": 82,
   "metadata": {},
   "outputs": [
    {
     "name": "stdin",
     "output_type": "stream",
     "text": [
      " 1 2 3 4\n",
      " 4 5 6 7\n",
      " 8 9 10 11\n",
      " 12 13 14 15\n"
     ]
    }
   ],
   "source": [
    "NUM_ROWS = 4\n",
    "a = [[int(j) for j in input().split()] for i in range(NUM_ROWS)]"
   ]
  },
  {
   "cell_type": "code",
   "execution_count": 83,
   "metadata": {},
   "outputs": [
    {
     "data": {
      "text/plain": [
       "[[1, 2, 3, 4], [4, 5, 6, 7], [8, 9, 10, 11], [12, 13, 14, 15]]"
      ]
     },
     "execution_count": 83,
     "metadata": {},
     "output_type": "execute_result"
    }
   ],
   "source": [
    "a"
   ]
  },
  {
   "cell_type": "markdown",
   "metadata": {
    "id": "H1Xvd46qUp9u"
   },
   "source": [
    "### Ejercicios"
   ]
  },
  {
   "cell_type": "markdown",
   "metadata": {
    "id": "H1GjuMkOUp9u"
   },
   "source": [
    "1- Hallar el producto de estas dos matrices y su determinante:\n",
    "\n",
    "$$\\begin{pmatrix} 1 & 0 & 0 \\\\ 2 & 1 & 1 \\\\ -1 & 0 & 1 \\end{pmatrix} \\begin{pmatrix} 2 & 3 & -1 \\\\ 0 & -2 & 1 \\\\ 0 & 0 & 3 \\end{pmatrix}$$"
   ]
  },
  {
   "cell_type": "code",
   "execution_count": null,
   "metadata": {
    "id": "46cE-e1AUp9u"
   },
   "outputs": [],
   "source": [
    "from numpy.linalg import det"
   ]
  },
  {
   "cell_type": "code",
   "execution_count": 84,
   "metadata": {
    "id": "9T7OD_MTUp9u"
   },
   "outputs": [],
   "source": [
    "A = np.array([\n",
    "    [1, 0, 0],\n",
    "    [2, 1, 1],\n",
    "    [-1, 0, 1]\n",
    "])\n",
    "B = np.array([\n",
    "    [2, 3, -1],\n",
    "    [0, -2, 1],\n",
    "    [0, 0, 3]\n",
    "])"
   ]
  },
  {
   "cell_type": "code",
   "execution_count": 85,
   "metadata": {
    "id": "QfTSS3OCUp9u"
   },
   "outputs": [],
   "source": [
    "C = np.dot(A, B)"
   ]
  },
  {
   "cell_type": "code",
   "execution_count": 87,
   "metadata": {
    "id": "zGwF10URUp9u"
   },
   "outputs": [
    {
     "data": {
      "text/plain": [
       "-12.0"
      ]
     },
     "execution_count": 87,
     "metadata": {},
     "output_type": "execute_result"
    }
   ],
   "source": [
    "det = np.linalg.det(C)\n",
    "det"
   ]
  },
  {
   "cell_type": "markdown",
   "metadata": {
    "id": "CoPNYszTUp9u"
   },
   "source": [
    "3- Resuelva el siguiente sistema de ecuaciones"
   ]
  },
  {
   "cell_type": "markdown",
   "metadata": {
    "id": "89cnyupeUp9u"
   },
   "source": [
    "$\\begin{eqnarray}\n",
    "x + 2y  = 3 \\\\\n",
    "3x + 4y = 5 \\\\\n",
    "\\end{eqnarray}$"
   ]
  },
  {
   "cell_type": "code",
   "execution_count": 88,
   "metadata": {
    "id": "K5d4IBzXUp9u"
   },
   "outputs": [
    {
     "data": {
      "text/plain": [
       "array([-1.,  2.])"
      ]
     },
     "execution_count": 88,
     "metadata": {},
     "output_type": "execute_result"
    }
   ],
   "source": [
    "coef = np.array([\n",
    "    [1, 2],\n",
    "    [3, 4]\n",
    "])\n",
    "\n",
    "result = np.array([3, 5])\n",
    "\n",
    "resp = np.linalg.solve(coef, result)\n",
    "resp\n"
   ]
  },
  {
   "cell_type": "markdown",
   "metadata": {
    "id": "5HOmx6OaUp9u"
   },
   "source": [
    "4- Un ingeniereo escribe dos ecuaciones que describen el circuito, como sigue: \n",
    "\n",
    "$\\begin{gather}\n",
    "300I_{1} + 500(I_{1}-I_{2})-20 = 0\\\\\n",
    "200I_{2} + 500(I_{2}-I_{1}) +10 = 0\\\\\n",
    "\\end{gather}$\n",
    "\n",
    "![circuito](https://github.com/lsantiago/PythonIntermedio/blob/master/Clases/Semana6_ALGEBRA/img/problem4.png?raw=1)\n",
    "\n",
    "Coloque las dos ecuaciones en forma estándar y resuelva las dos ecuaciones:"
   ]
  },
  {
   "cell_type": "code",
   "execution_count": 89,
   "metadata": {
    "id": "0iy0eEiuUp9u"
   },
   "outputs": [
    {
     "name": "stdout",
     "output_type": "stream",
     "text": [
      "[0.02903226 0.00645161]\n"
     ]
    }
   ],
   "source": [
    "# 300i1 + 500i1 - 500i2 = 20\n",
    "# 200i2 + 500i2 - 500i1 = -10\n",
    "\n",
    "#  800 i1 - 500 i2  = 20\n",
    "# -500 i1 + 700 i2  = -10\n",
    "\n",
    "coef = np.array([\n",
    "    [800, -500],\n",
    "    [-500, 700]\n",
    "])\n",
    "\n",
    "result = np.array([20, -10])\n",
    "resp = np.linalg.solve(coef, result)\n",
    "print(resp)\n",
    "\n",
    "# Resp: [0.029, 0.0064]"
   ]
  },
  {
   "cell_type": "markdown",
   "metadata": {
    "id": "mSICGC9LUp9u"
   },
   "source": [
    "5- Resolver el siguiente sistema de ecuaciones\n",
    "\n",
    "![](https://github.com/lsantiago/PythonIntermedio/blob/master/Clases/Semana6_ALGEBRA/img/problem5.png?raw=1)"
   ]
  },
  {
   "cell_type": "code",
   "execution_count": 90,
   "metadata": {
    "id": "SUMKyAZOUp9u"
   },
   "outputs": [
    {
     "data": {
      "text/plain": [
       "array([0.00275801, 0.00078292, 0.00124555])"
      ]
     },
     "execution_count": 90,
     "metadata": {},
     "output_type": "execute_result"
    }
   ],
   "source": [
    "# 2000 (i1 - i2) + 4000 (i1 - i3) - 10      = 0\n",
    "# 2000 (i2 - i1) + 8000 i2 + 5000 (i2 - i3) = 0\n",
    "# 5000 (i3 - i2) + 3000 i3 + 4000 (i3 - i1) = 0\n",
    "\n",
    "# 2i1 - 2i2 + 4i1 - 4i3       = 10/1000\n",
    "# 2i2 - 2i1 + 8i2 + 5i2 - 5i3 = 0\n",
    "# 5i3 - 5i2 + 3i3 + 4i3 - 4i1 = 0\n",
    "\n",
    "#  6i1 -  2i2 - 4i3 = 10/1000\n",
    "# -2i1 + 15i2 - 5i3 = 0\n",
    "# -4i1 - 5i2  + 12i3 = 0\n",
    "\n",
    "coef = np.array([\n",
    "    [6, -2, -4],\n",
    "    [-2, 15, -5],\n",
    "    [-4, -5, 12]\n",
    "])\n",
    "\n",
    "result = np.array([10/1000, 0, 0])\n",
    "\n",
    "I = np.linalg.solve(coef, result)\n",
    "I"
   ]
  },
  {
   "cell_type": "markdown",
   "metadata": {
    "id": "90B2laYmUp9u"
   },
   "source": [
    "3- Resolver el siguiente sistema:\n",
    "\n",
    "$$ \\begin{pmatrix} 2 & 0 & 0 \\\\ -1 & 1 & 0 \\\\ 3 & 2 & -1 \\end{pmatrix} \\begin{pmatrix} 1 & 1 & 1 \\\\ 0 & 1 & 2 \\\\ 0 & 0 & 1 \\end{pmatrix} \\begin{pmatrix} x \\\\ y \\\\ z \\end{pmatrix} = \\begin{pmatrix} -1 \\\\ 3 \\\\ 0 \\end{pmatrix} $$"
   ]
  },
  {
   "cell_type": "code",
   "execution_count": null,
   "metadata": {
    "id": "sNm7fo3HUp9u",
    "outputId": "93243500-c89a-4b23-e85d-09294a418ac4"
   },
   "outputs": [
    {
     "data": {
      "text/plain": [
       "array([[ 2,  2,  2],\n",
       "       [-1,  0,  1],\n",
       "       [ 3,  5,  6]])"
      ]
     },
     "execution_count": 2,
     "metadata": {
      "tags": []
     },
     "output_type": "execute_result"
    }
   ],
   "source": [
    "M = np.dot(\n",
    "np.array([\n",
    "    [2, 0, 0],\n",
    "    [-1, 1, 0],\n",
    "    [3, 2, -1]\n",
    "]),\n",
    "np.array([\n",
    "    [1, 1, 1],\n",
    "    [0, 1, 2],\n",
    "    [0, 0, 1]\n",
    "]))\n",
    "M"
   ]
  },
  {
   "cell_type": "code",
   "execution_count": null,
   "metadata": {
    "id": "JHHcrqQXUp9v",
    "outputId": "e63200a1-a225-4146-8bcc-d2d0ead64024"
   },
   "outputs": [
    {
     "data": {
      "text/plain": [
       "array([ 0.5, -4.5,  3.5])"
      ]
     },
     "execution_count": 3,
     "metadata": {
      "tags": []
     },
     "output_type": "execute_result"
    }
   ],
   "source": [
    "x = np.linalg.solve(M, np.array([-1, 3, 0]))\n",
    "x"
   ]
  }
 ],
 "metadata": {
  "colab": {
   "include_colab_link": true,
   "name": "algebra_lineal_apuntes.ipynb",
   "provenance": []
  },
  "kernelspec": {
   "display_name": "Python 3",
   "language": "python",
   "name": "python3"
  },
  "language_info": {
   "codemirror_mode": {
    "name": "ipython",
    "version": 3
   },
   "file_extension": ".py",
   "mimetype": "text/x-python",
   "name": "python",
   "nbconvert_exporter": "python",
   "pygments_lexer": "ipython3",
   "version": "3.7.6"
  }
 },
 "nbformat": 4,
 "nbformat_minor": 4
}
