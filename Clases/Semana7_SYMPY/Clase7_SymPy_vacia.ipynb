{
  "nbformat": 4,
  "nbformat_minor": 0,
  "metadata": {
    "colab": {
      "name": "Clase7_SymPy_vacía.ipynb",
      "provenance": [],
      "include_colab_link": true
    },
    "kernelspec": {
      "display_name": "Python 3",
      "language": "python",
      "name": "python3"
    },
    "language_info": {
      "codemirror_mode": {
        "name": "ipython",
        "version": 3
      },
      "file_extension": ".py",
      "mimetype": "text/x-python",
      "name": "python",
      "nbconvert_exporter": "python",
      "pygments_lexer": "ipython3",
      "version": "3.7.6"
    }
  },
  "cells": [
    {
      "cell_type": "markdown",
      "metadata": {
        "id": "view-in-github",
        "colab_type": "text"
      },
      "source": [
        "<a href=\"https://colab.research.google.com/github/lsantiago/PythonIntermedio/blob/master/Clases/Semana7_SYMPY/Clase7_SymPy_vacia.ipynb\" target=\"_parent\"><img src=\"https://colab.research.google.com/assets/colab-badge.svg\" alt=\"Open In Colab\"/></a>"
      ]
    },
    {
      "cell_type": "markdown",
      "metadata": {
        "id": "dZ0yHuX0kpTN"
      },
      "source": [
        "# CLASE 7: SymPy"
      ]
    },
    {
      "cell_type": "markdown",
      "metadata": {
        "id": "-KMGZUTMkpTN"
      },
      "source": [
        "![](http://sympy.org/static/images/logo.png)\n",
        "\n",
        "_ __SymPy es una biblioteca de Python para matemática simbólica__. Apunta a convertirse en un sistema de algebra computacional (__CAS__) con todas sus prestaciones manteniendo el código tan simple como sea posible para manterlo comprensible y fácilmente extensible. SymPy está __escrito totalmente en Python y no requiere bibliotecas adicionales__. _Este proyecto comenzó en 2005, fue lanzado al público en 2007 y a él han contribuido durante estos años cientos de personas._\n",
        "\n",
        "_ Otros CAS conocidos son Mathematica y Maple, sin embargo ambos son software privativo y de pago. [Aquí](https://github.com/sympy/sympy/wiki/SymPy-vs.-Maple) puedes encontrar una comparativa de SymPy con Maple. _\n",
        "\n",
        "Hoy veremos cómo:\n",
        "\n",
        "* Crear símbolos y expresiones.\n",
        "* Manipular expresiones (simplificación, expansión...)\n",
        "* Calcular derivadas e integrales.\n",
        "* Límites y desarrollos en serie.\n",
        "* Resolución de ecuaciones.\n",
        "* Resolción de EDOs.\n",
        "* Matrices\n",
        "\n",
        "Sin embargo, SymPy no acaba aquí ni mucho menos..."
      ]
    },
    {
      "cell_type": "markdown",
      "metadata": {
        "id": "IBfXEUxUkpTN"
      },
      "source": [
        "## Documentación & SymPy Live Shell"
      ]
    },
    {
      "cell_type": "markdown",
      "metadata": {
        "id": "EpW0OawV6Qef"
      },
      "source": [
        "[Documentacion](http://docs.sympy.org/latest/index.html)\n"
      ]
    },
    {
      "cell_type": "markdown",
      "metadata": {
        "id": "BIDDrfAU6UMY"
      },
      "source": [
        "[SympyGamma](http://www.sympygamma.com/input/?i=integrate%281+%2F+%281+%2B+x^2%29%29)"
      ]
    },
    {
      "cell_type": "markdown",
      "metadata": {
        "id": "hCdf9rbqkpTP"
      },
      "source": [
        "## Creación de símbolos"
      ]
    },
    {
      "cell_type": "markdown",
      "metadata": {
        "id": "RcCnVicBkpTP"
      },
      "source": [
        "Lo primero, como siempre, es importar aquello que vayamos a necesitar:"
      ]
    },
    {
      "cell_type": "code",
      "metadata": {
        "id": "UuQwn6FAkpTP"
      },
      "source": [
        ""
      ],
      "execution_count": null,
      "outputs": []
    },
    {
      "cell_type": "code",
      "metadata": {
        "id": "xqhmGApDkpTP"
      },
      "source": [
        ""
      ],
      "execution_count": null,
      "outputs": []
    },
    {
      "cell_type": "markdown",
      "metadata": {
        "id": "RNfK03CpkpTP"
      },
      "source": [
        "\n",
        "\n",
        "* Gracias a `use_latex=True` obtenemos la salida en $\\LaTeX$.\n",
        "* __Ha creado una serie de variables__ para que podamos ponernos a trabajar en el momento."
      ]
    },
    {
      "cell_type": "markdown",
      "metadata": {
        "id": "0Z-90VJ2kpTQ"
      },
      "source": [
        "<div class=\"alert warning-info\"><strong>Nota:</strong> \n",
        "En Python, no se declaran las variables, sin embargo, no puedes usar una hasta que no le hayas asignado un valor. Si ahora intentamos crear una variable `a` que sea `a = 2 * b`, veamos qué ocurre:\n",
        "</div>"
      ]
    },
    {
      "cell_type": "code",
      "metadata": {
        "id": "yWZxEOeykpTQ"
      },
      "source": [
        "# Intentamos usar un símbolo que no hemos creado\n"
      ],
      "execution_count": null,
      "outputs": []
    },
    {
      "cell_type": "markdown",
      "metadata": {
        "id": "wJE3VKskkpTQ"
      },
      "source": [
        "Como en `b` no había sido creada, Python no sabe qué es `b`.\n",
        "\n",
        "Esto mismo nos ocurre con los símbolos de SymPy. __Antes de usar una variable, debo decir que es un símbolo y asignárselo:__"
      ]
    },
    {
      "cell_type": "code",
      "metadata": {
        "id": "Z7ZbDf9skpTQ"
      },
      "source": [
        "# Creamos el símbolo a\n"
      ],
      "execution_count": null,
      "outputs": []
    },
    {
      "cell_type": "code",
      "metadata": {
        "id": "TIqEfQAl6gpJ"
      },
      "source": [
        ""
      ],
      "execution_count": null,
      "outputs": []
    },
    {
      "cell_type": "code",
      "metadata": {
        "id": "nfE2NJStkpTQ"
      },
      "source": [
        "# Número pi\n"
      ],
      "execution_count": null,
      "outputs": []
    },
    {
      "cell_type": "code",
      "metadata": {
        "id": "salOkxLikpTQ"
      },
      "source": [
        "# Unidad imaginaria\n"
      ],
      "execution_count": null,
      "outputs": []
    },
    {
      "cell_type": "code",
      "metadata": {
        "id": "wzoHnQnHkpTQ"
      },
      "source": [
        "# Número e\n"
      ],
      "execution_count": null,
      "outputs": []
    },
    {
      "cell_type": "code",
      "metadata": {
        "id": "xL_K70xhkpTQ"
      },
      "source": [
        "# Vemos qué tipo de variable es a\n"
      ],
      "execution_count": null,
      "outputs": []
    },
    {
      "cell_type": "markdown",
      "metadata": {
        "id": "R8sLWP27kpTQ"
      },
      "source": [
        "Ahora ya podría crear `b = 2 * a`:"
      ]
    },
    {
      "cell_type": "code",
      "metadata": {
        "id": "YnXIB320kpTQ"
      },
      "source": [
        ""
      ],
      "execution_count": null,
      "outputs": []
    },
    {
      "cell_type": "code",
      "metadata": {
        "id": "rIJ4VyLxkpTQ"
      },
      "source": [
        ""
      ],
      "execution_count": null,
      "outputs": []
    },
    {
      "cell_type": "markdown",
      "metadata": {
        "id": "GefEPxKVkpTQ"
      },
      "source": [
        "¿Qué está ocurriendo? Python detecta que a es una variable de tipo `Symbol` y al multiplicarla por `2` devuelve una variable de Sympy.\n",
        "\n",
        "Como Python permite que el tipo de una variable cambie, __si ahora le asigno a `a` un valor float deja de ser un símbolo.__"
      ]
    },
    {
      "cell_type": "code",
      "metadata": {
        "id": "Wif5DpuSkpTQ"
      },
      "source": [
        ""
      ],
      "execution_count": null,
      "outputs": []
    },
    {
      "cell_type": "code",
      "metadata": {
        "id": "e79HvFVIkpTQ"
      },
      "source": [
        ""
      ],
      "execution_count": null,
      "outputs": []
    },
    {
      "cell_type": "markdown",
      "metadata": {
        "id": "RopYQQsYkpTQ"
      },
      "source": [
        "---\n",
        "__Las conclusiones son:__\n",
        "\n",
        "* __Si quiero usar una variable como símbolo debo crearla previamente.__\n",
        "* Las operaciones con símbolos devuelven símbolos.\n",
        "* Si una varibale que almacenaba un símbolo recibe otra asignación, cambia de tipo.\n",
        "\n",
        "---"
      ]
    },
    {
      "cell_type": "markdown",
      "metadata": {
        "id": "fqcLkUa1kpTQ"
      },
      "source": [
        "__Las variables de tipo `Symbol` actúan como contenedores en los que no sabemos qué hay (un real, un complejo, una lista...)__. Hay que tener en cuenta que: __una cosa es el nombre de la variable y otra el símbolo con el que se representa__."
      ]
    },
    {
      "cell_type": "code",
      "metadata": {
        "id": "JAXkoSMDkpTQ"
      },
      "source": [
        "#creación de símbolos\n"
      ],
      "execution_count": null,
      "outputs": []
    },
    {
      "cell_type": "code",
      "metadata": {
        "id": "Ofr_shq5kpTR"
      },
      "source": [
        ""
      ],
      "execution_count": null,
      "outputs": []
    },
    {
      "cell_type": "markdown",
      "metadata": {
        "id": "yXIr2244kpTR"
      },
      "source": [
        "Incluso puedo hacer cosas raras como:"
      ]
    },
    {
      "cell_type": "code",
      "metadata": {
        "id": "C4eqHTTckpTR"
      },
      "source": [
        "# Diferencia entre variable y símbolo\n"
      ],
      "execution_count": null,
      "outputs": []
    },
    {
      "cell_type": "markdown",
      "metadata": {
        "id": "cc_ME8DzkpTR"
      },
      "source": [
        "Además, se pueden crear varos símbolos a la vez:"
      ]
    },
    {
      "cell_type": "code",
      "metadata": {
        "id": "KWih_r3tkpTR"
      },
      "source": [
        ""
      ],
      "execution_count": null,
      "outputs": []
    },
    {
      "cell_type": "markdown",
      "metadata": {
        "id": "dATmIlE7kpTR"
      },
      "source": [
        "y símbolos griegos:"
      ]
    },
    {
      "cell_type": "code",
      "metadata": {
        "id": "I_bAz-d4kpTR"
      },
      "source": [
        ""
      ],
      "execution_count": null,
      "outputs": []
    },
    {
      "cell_type": "markdown",
      "metadata": {
        "id": "ED1DOyABkpTR"
      },
      "source": [
        "__Por defecto, SymPy entiende que los símbolos son números complejos__. Esto puede producir resultados inesperados ante determinadas operaciones como, por ejemplo, lo logaritmos. __Podemos indicar que la variable es real, entera... en el momento de la creación__:"
      ]
    },
    {
      "cell_type": "code",
      "metadata": {
        "id": "iQWQlHGRkpTR"
      },
      "source": [
        "# Creamos símbolos reales\n"
      ],
      "execution_count": null,
      "outputs": []
    },
    {
      "cell_type": "code",
      "metadata": {
        "id": "dcu23mqUkpTR"
      },
      "source": [
        "# restricciones sobre el simbolo\n"
      ],
      "execution_count": null,
      "outputs": []
    },
    {
      "cell_type": "code",
      "metadata": {
        "id": "IHNbi5PrkpTR"
      },
      "source": [
        "# Podemos ver las asunciones de un símbolo\n"
      ],
      "execution_count": null,
      "outputs": []
    },
    {
      "cell_type": "code",
      "metadata": {
        "id": "IogZdRXXkpTR"
      },
      "source": [
        "\n"
      ],
      "execution_count": null,
      "outputs": []
    },
    {
      "cell_type": "markdown",
      "metadata": {
        "id": "X8eUtCackpTR"
      },
      "source": [
        "## Expresiones"
      ]
    },
    {
      "cell_type": "markdown",
      "metadata": {
        "id": "4I7ioi-MkpTR"
      },
      "source": [
        "Comencemos por crear una expresión como: $\\cos(x)^2+\\sin(x)^2$"
      ]
    },
    {
      "cell_type": "code",
      "metadata": {
        "id": "dWQXUtc4kpTR"
      },
      "source": [
        ""
      ],
      "execution_count": null,
      "outputs": []
    },
    {
      "cell_type": "markdown",
      "metadata": {
        "id": "9UTwgr-fkpTR"
      },
      "source": [
        "### `simplify()`"
      ]
    },
    {
      "cell_type": "markdown",
      "metadata": {
        "id": "HG0VG6x5kpTR"
      },
      "source": [
        "Podemos pedirle que simplifique la expresión anterior:"
      ]
    },
    {
      "cell_type": "code",
      "metadata": {
        "id": "6wN3tH7dkpTR"
      },
      "source": [
        ""
      ],
      "execution_count": null,
      "outputs": []
    },
    {
      "cell_type": "code",
      "metadata": {
        "id": "saA_MNbHmQQy"
      },
      "source": [
        ""
      ],
      "execution_count": null,
      "outputs": []
    },
    {
      "cell_type": "code",
      "metadata": {
        "id": "YwADojoXmpw7"
      },
      "source": [
        ""
      ],
      "execution_count": null,
      "outputs": []
    },
    {
      "cell_type": "code",
      "metadata": {
        "id": "c6WzaIPdm5QH"
      },
      "source": [
        ""
      ],
      "execution_count": null,
      "outputs": []
    },
    {
      "cell_type": "code",
      "metadata": {
        "id": "YTA1rkWanD1I"
      },
      "source": [
        ""
      ],
      "execution_count": null,
      "outputs": []
    },
    {
      "cell_type": "markdown",
      "metadata": {
        "id": "hNRL9vKckpTR"
      },
      "source": [
        "En este caso parece estar claro lo que quiere decir más simple, pero como en cualquier _CAS_ el comando `simplify` puede no devolvernos la expresión que nosotros queremos. Cuando esto ocurra necesitaremos usar otras instrucciones."
      ]
    },
    {
      "cell_type": "markdown",
      "metadata": {
        "id": "e_SG9yVRkpTR"
      },
      "source": [
        "### `.subs()`"
      ]
    },
    {
      "cell_type": "markdown",
      "metadata": {
        "id": "TiD2de7ikpTR"
      },
      "source": [
        "En algunas ocasiones necesitaremos sustituir una variable por otra, por otra expresión o por un valor."
      ]
    },
    {
      "cell_type": "code",
      "metadata": {
        "id": "4pnENGY_kpTR"
      },
      "source": [
        ""
      ],
      "execution_count": null,
      "outputs": []
    },
    {
      "cell_type": "code",
      "metadata": {
        "id": "HbHY-QYJkpTR"
      },
      "source": [
        ""
      ],
      "execution_count": null,
      "outputs": []
    },
    {
      "cell_type": "code",
      "metadata": {
        "id": "PhlmzO5PkpTR"
      },
      "source": [
        "# ¡Pero la expresión no cambia!\n"
      ],
      "execution_count": null,
      "outputs": []
    },
    {
      "cell_type": "code",
      "metadata": {
        "id": "PeVmVpwCkpTR"
      },
      "source": [
        "# Para que cambie\n"
      ],
      "execution_count": null,
      "outputs": []
    },
    {
      "cell_type": "markdown",
      "metadata": {
        "id": "2w4PhqqXkpTR"
      },
      "source": [
        "Cambia el `sin(x)` por `exp(x)`"
      ]
    },
    {
      "cell_type": "code",
      "metadata": {
        "id": "IgSrVwE1kpTR"
      },
      "source": [
        ""
      ],
      "execution_count": null,
      "outputs": []
    },
    {
      "cell_type": "markdown",
      "metadata": {
        "id": "x2_I1IhSkpTR"
      },
      "source": [
        "Particulariza la expresión $sin(x) + 3 x $ en $x = \\pi$"
      ]
    },
    {
      "cell_type": "code",
      "metadata": {
        "id": "Yw-YmHu5kpTR"
      },
      "source": [
        ""
      ],
      "execution_count": null,
      "outputs": []
    },
    {
      "cell_type": "markdown",
      "metadata": {
        "id": "JkUKUFWZkpTR"
      },
      "source": [
        "__Aunque si lo que queremos es obtener el valor numérico lo mejor es `.evalf()`__"
      ]
    },
    {
      "cell_type": "code",
      "metadata": {
        "id": "vJ2c8V_akpTR"
      },
      "source": [
        ""
      ],
      "execution_count": null,
      "outputs": []
    },
    {
      "cell_type": "code",
      "metadata": {
        "id": "UGsp2vCUoPXT"
      },
      "source": [
        ""
      ],
      "execution_count": null,
      "outputs": []
    },
    {
      "cell_type": "code",
      "metadata": {
        "id": "bul1UzyLkpTR"
      },
      "source": [
        "#ver pi con 25 decimales\n"
      ],
      "execution_count": null,
      "outputs": []
    },
    {
      "cell_type": "code",
      "metadata": {
        "id": "ZzMnBw11kpTR"
      },
      "source": [
        "#el mismo resultado se obtiene ocn la función N()\n"
      ],
      "execution_count": null,
      "outputs": []
    },
    {
      "cell_type": "markdown",
      "metadata": {
        "id": "g2RsXRnokpTR"
      },
      "source": [
        "# Simplificación"
      ]
    },
    {
      "cell_type": "markdown",
      "metadata": {
        "id": "-rJKXrIzkpTR"
      },
      "source": [
        "SymPy ofrece numerosas funciones para __simplificar y manipular expresiones__. Entre otras, destacan:\n",
        "\n",
        "* `expand()`\n",
        "* `factor()`\n",
        "* `collect()`\n",
        "* `apart()`\n",
        "* `cancel()`\n",
        "\n",
        "Puedes consultar en la documentación de SymPy lo que hace cada una y algunos ejemplos. __Existen también funciones específicas de simplificación para funciones trigonométricas, potencias y logaritmos.__ Abre [esta documentación](http://docs.sympy.org/latest/tutorial/simplification.html) si lo necesitas."
      ]
    },
    {
      "cell_type": "markdown",
      "metadata": {
        "id": "DS74H4zhkpTS"
      },
      "source": [
        "##### ¡Te toca!"
      ]
    },
    {
      "cell_type": "markdown",
      "metadata": {
        "id": "j5LFUTRCkpTS"
      },
      "source": [
        "Pasaremos rápidamente por esta parte, para hacer cosas \"más interesantes\". Te proponemos algunos ejemplos para que te familiarices con el manejor de expresiones:"
      ]
    },
    {
      "cell_type": "markdown",
      "metadata": {
        "id": "LOBMjANgkpTS"
      },
      "source": [
        "__Crea las expresiones de la izquierda y averigua qué función te hace obtener la de la derecha:__\n",
        "\n",
        "expresión 1| expresión 2\n",
        ":------:|:------:\n",
        "$\\left(x^{3} + 3 y + 2\\right)^{2}$    |    $x^{6} + 6 x^{3} y + 4 x^{3} + 9 y^{2} + 12 y + 4$\n",
        "$\\frac{\\left(3 x^{2} - 2 x + 1\\right)}{\\left(x - 1\\right)^{2}} $ | $3 + \\frac{4}{x - 1} + \\frac{2}{\\left(x - 1\\right)^{2}}$\n",
        "$x^{3} + 9 x^{2} + 27 x + 27$         |    $\\left(x + 3\\right)^{3}$\n",
        "$\\sin(x+2y)$                          |    $\\left(2 \\cos^{2}{\\left (y \\right )} - 1\\right) \\sin{\\left (x \\right )} + 2 \\sin{\\left (y \\right )} \\cos{\\left (x \\right )} \\cos{\\left (y \\right )}$\n"
      ]
    },
    {
      "cell_type": "code",
      "metadata": {
        "id": "43R4FRnbrXkI"
      },
      "source": [
        ""
      ],
      "execution_count": null,
      "outputs": []
    },
    {
      "cell_type": "code",
      "metadata": {
        "id": "C9a19HEekpTS"
      },
      "source": [
        "#1\n"
      ],
      "execution_count": null,
      "outputs": []
    },
    {
      "cell_type": "code",
      "metadata": {
        "id": "aWqFzhC5kpTS"
      },
      "source": [
        ""
      ],
      "execution_count": null,
      "outputs": []
    },
    {
      "cell_type": "code",
      "metadata": {
        "id": "ub0Gh3dLrokB"
      },
      "source": [
        ""
      ],
      "execution_count": null,
      "outputs": []
    },
    {
      "cell_type": "code",
      "metadata": {
        "id": "Zpe4vmM1kpTS"
      },
      "source": [
        "#2\n"
      ],
      "execution_count": null,
      "outputs": []
    },
    {
      "cell_type": "code",
      "metadata": {
        "id": "_m6PBjtLkpTS"
      },
      "source": [
        ""
      ],
      "execution_count": null,
      "outputs": []
    },
    {
      "cell_type": "code",
      "metadata": {
        "id": "cYAR-1lnsFWA"
      },
      "source": [
        ""
      ],
      "execution_count": null,
      "outputs": []
    },
    {
      "cell_type": "code",
      "metadata": {
        "id": "eOQRr5mUkpTS"
      },
      "source": [
        "#3\n"
      ],
      "execution_count": null,
      "outputs": []
    },
    {
      "cell_type": "code",
      "metadata": {
        "id": "roMLUVATscPV"
      },
      "source": [
        ""
      ],
      "execution_count": null,
      "outputs": []
    },
    {
      "cell_type": "code",
      "metadata": {
        "id": "EI9vtGtrkpTS"
      },
      "source": [
        ""
      ],
      "execution_count": null,
      "outputs": []
    },
    {
      "cell_type": "code",
      "metadata": {
        "id": "HtC-o1oQkpTS"
      },
      "source": [
        "#4\n"
      ],
      "execution_count": null,
      "outputs": []
    },
    {
      "cell_type": "code",
      "metadata": {
        "id": "NgoF60dXsoBG"
      },
      "source": [
        ""
      ],
      "execution_count": null,
      "outputs": []
    },
    {
      "cell_type": "code",
      "metadata": {
        "id": "hSTa_q4hkpTS"
      },
      "source": [
        ""
      ],
      "execution_count": null,
      "outputs": []
    },
    {
      "cell_type": "code",
      "metadata": {
        "id": "xoX8skcBkpTS"
      },
      "source": [
        ""
      ],
      "execution_count": null,
      "outputs": []
    },
    {
      "cell_type": "code",
      "metadata": {
        "id": "xJ5ljLZzkpTS"
      },
      "source": [
        ""
      ],
      "execution_count": null,
      "outputs": []
    },
    {
      "cell_type": "markdown",
      "metadata": {
        "id": "Bn1tpxStkpTS"
      },
      "source": [
        "# Derivadas e integrales"
      ]
    },
    {
      "cell_type": "markdown",
      "metadata": {
        "id": "p1B-pp7dkpTS"
      },
      "source": [
        "Puedes derivar una expresion usando el método `.diff()` y la función `dif()`"
      ]
    },
    {
      "cell_type": "code",
      "metadata": {
        "id": "uubhNNjokpTS"
      },
      "source": [
        "#creamos una expresión\n",
        "\n",
        "#obtenemos la derivada primera con funcion\n"
      ],
      "execution_count": null,
      "outputs": []
    },
    {
      "cell_type": "code",
      "metadata": {
        "id": "OdGNTjJFkpTS"
      },
      "source": [
        "#utilizando método\n"
      ],
      "execution_count": null,
      "outputs": []
    },
    {
      "cell_type": "markdown",
      "metadata": {
        "id": "MFfbDT2ukpTS"
      },
      "source": [
        "__¿derivada tercera?__"
      ]
    },
    {
      "cell_type": "code",
      "metadata": {
        "id": "Y8DRd962kpTS"
      },
      "source": [
        ""
      ],
      "execution_count": null,
      "outputs": []
    },
    {
      "cell_type": "code",
      "metadata": {
        "id": "HF9KyFHRkpTS"
      },
      "source": [
        ""
      ],
      "execution_count": null,
      "outputs": []
    },
    {
      "cell_type": "markdown",
      "metadata": {
        "id": "r_-m2wVZkpTS"
      },
      "source": [
        "__¿varias variables?__"
      ]
    },
    {
      "cell_type": "code",
      "metadata": {
        "id": "PNBnm06BkpTS"
      },
      "source": [
        ""
      ],
      "execution_count": null,
      "outputs": []
    },
    {
      "cell_type": "code",
      "metadata": {
        "id": "nUuJyP36kpTS"
      },
      "source": [
        ""
      ],
      "execution_count": null,
      "outputs": []
    },
    {
      "cell_type": "markdown",
      "metadata": {
        "id": "nov1hvVMkpTS"
      },
      "source": [
        "__Queremos que la deje indicada__, usamos `Derivative()`"
      ]
    },
    {
      "cell_type": "code",
      "metadata": {
        "id": "EIentfxBkpTS"
      },
      "source": [
        ""
      ],
      "execution_count": null,
      "outputs": []
    },
    {
      "cell_type": "markdown",
      "metadata": {
        "id": "cW_e5c4EkpTS"
      },
      "source": [
        "__¿Será capaz SymPy de aplicar la regla de la cadena?__"
      ]
    },
    {
      "cell_type": "code",
      "metadata": {
        "id": "v8DhZYK4kpTS"
      },
      "source": [
        "# Creamos una función F\n"
      ],
      "execution_count": null,
      "outputs": []
    },
    {
      "cell_type": "code",
      "metadata": {
        "id": "N-oHwqZXkpTS"
      },
      "source": [
        "# Creamos una función G\n"
      ],
      "execution_count": null,
      "outputs": []
    },
    {
      "cell_type": "markdown",
      "metadata": {
        "id": "tONHnN3tkpTS"
      },
      "source": [
        "$$\\frac{d}{d x} F{\\left (G(x) \\right )} $$"
      ]
    },
    {
      "cell_type": "code",
      "metadata": {
        "id": "05D0Q_hCkpTS"
      },
      "source": [
        "# Derivamos la función compuesta F(G(x))\n"
      ],
      "execution_count": null,
      "outputs": []
    },
    {
      "cell_type": "markdown",
      "metadata": {
        "id": "m3P8gADvkpTS"
      },
      "source": [
        "En un caso en el que conocemos las funciones:"
      ]
    },
    {
      "cell_type": "code",
      "metadata": {
        "id": "vTvmSlEhkpTS"
      },
      "source": [
        "# definimos una f\n"
      ],
      "execution_count": null,
      "outputs": []
    },
    {
      "cell_type": "code",
      "metadata": {
        "id": "t7RvMhXKkpTS"
      },
      "source": [
        "# definimos una g(f)\n"
      ],
      "execution_count": null,
      "outputs": []
    },
    {
      "cell_type": "code",
      "metadata": {
        "id": "GaPyR_vskpTS"
      },
      "source": [
        "#la derivamos\n"
      ],
      "execution_count": null,
      "outputs": []
    },
    {
      "cell_type": "markdown",
      "metadata": {
        "id": "2fsYejWRkpTS"
      },
      "source": [
        "##### Te toca integrar"
      ]
    },
    {
      "cell_type": "markdown",
      "metadata": {
        "id": "RvdFFAsZkpTS"
      },
      "source": [
        "__Si te digo que se integra usando el método `.integrate()` o la función `integrate()`__. ¿Te atreves a integrar estas casi inmediatas...?:\n",
        "\n",
        "$$\\int{\\cos(x)^2}dx$$\n",
        "$$\\int{\\frac{dx}{\\sin(x)}}$$\n",
        "$$\\int{\\frac{dx}{(x^2+a^2)^2}}$$\n",
        "\n"
      ]
    },
    {
      "cell_type": "code",
      "metadata": {
        "id": "uPaMmDCNkpTS"
      },
      "source": [
        ""
      ],
      "execution_count": null,
      "outputs": []
    },
    {
      "cell_type": "code",
      "metadata": {
        "id": "Jcm95_NqkpTS"
      },
      "source": [
        ""
      ],
      "execution_count": null,
      "outputs": []
    },
    {
      "cell_type": "code",
      "metadata": {
        "id": "F8N-3viSkpTT"
      },
      "source": [
        ""
      ],
      "execution_count": null,
      "outputs": []
    },
    {
      "cell_type": "code",
      "metadata": {
        "id": "SWF36OH3vjjX"
      },
      "source": [
        ""
      ],
      "execution_count": null,
      "outputs": []
    },
    {
      "cell_type": "code",
      "metadata": {
        "id": "aYxOav1Fx0_O"
      },
      "source": [
        ""
      ],
      "execution_count": null,
      "outputs": []
    },
    {
      "cell_type": "code",
      "metadata": {
        "id": "WhayCr9hx8Hv"
      },
      "source": [
        "\n"
      ],
      "execution_count": null,
      "outputs": []
    },
    {
      "cell_type": "markdown",
      "metadata": {
        "id": "BnYNhhEVkpTT"
      },
      "source": [
        "# Límites"
      ]
    },
    {
      "cell_type": "markdown",
      "metadata": {
        "id": "MjHRNZ_wkpTT"
      },
      "source": [
        "Calculemos este límite sacado del libro _Cálculo: definiciones, teoremas y resultados_, de Juan de Burgos:\n",
        "\n",
        "$$\\lim_{x \\to 0} \\left(\\frac{x}{\\tan{\\left (x \\right )}}\\right)^{\\frac{1}{x^{2}}}$$\n",
        "\n",
        "Primero creamos la expresión:"
      ]
    },
    {
      "cell_type": "code",
      "metadata": {
        "id": "ysOZQk3ZkpTT"
      },
      "source": [
        ""
      ],
      "execution_count": null,
      "outputs": []
    },
    {
      "cell_type": "markdown",
      "metadata": {
        "id": "ml6HnEKIkpTT"
      },
      "source": [
        "Obtenemos el límite con la función `limit()` y si queremos dejarlo indicado, podemos usar `Limit()`:"
      ]
    },
    {
      "cell_type": "code",
      "metadata": {
        "id": "pvNfQVt3kpTT"
      },
      "source": [
        ""
      ],
      "execution_count": null,
      "outputs": []
    },
    {
      "cell_type": "code",
      "metadata": {
        "id": "WLlLLqHuyYAN"
      },
      "source": [
        ""
      ],
      "execution_count": null,
      "outputs": []
    },
    {
      "cell_type": "code",
      "metadata": {
        "id": "u508ZoydykPa"
      },
      "source": [
        ""
      ],
      "execution_count": null,
      "outputs": []
    },
    {
      "cell_type": "code",
      "metadata": {
        "id": "tpUyI5amyqww"
      },
      "source": [
        "# para dejar indicado\n"
      ],
      "execution_count": null,
      "outputs": []
    },
    {
      "cell_type": "markdown",
      "metadata": {
        "id": "9PsAKRFhkpTT"
      },
      "source": [
        "# Series"
      ]
    },
    {
      "cell_type": "markdown",
      "metadata": {
        "id": "VS-OIaU_kpTT"
      },
      "source": [
        "Los desarrollos en serie se pueden llevar a cabo con el método `.series()` o la función `series()`"
      ]
    },
    {
      "cell_type": "code",
      "metadata": {
        "id": "4PTYx6mkkpTT"
      },
      "source": [
        "#creamos la expresión\n"
      ],
      "execution_count": null,
      "outputs": []
    },
    {
      "cell_type": "code",
      "metadata": {
        "id": "X6q-2gWYkpTT"
      },
      "source": [
        "#la desarrollamos en serie\n"
      ],
      "execution_count": null,
      "outputs": []
    },
    {
      "cell_type": "markdown",
      "metadata": {
        "id": "eiEQJWA9kpTT"
      },
      "source": [
        "Se puede especificar el número de términos pasándole un argumento `n=...`. El número que le pasemos será el primer término que desprecie."
      ]
    },
    {
      "cell_type": "code",
      "metadata": {
        "id": "mg9wHL5lkpTT"
      },
      "source": [
        "# Indicando el número de términos\n"
      ],
      "execution_count": null,
      "outputs": []
    },
    {
      "cell_type": "markdown",
      "metadata": {
        "id": "dG8e2hXXkpTT"
      },
      "source": [
        "Si nos molesta el $\\mathcal{O}(x^{10})$ lo podemos quitar con `removeO()`:"
      ]
    },
    {
      "cell_type": "code",
      "metadata": {
        "id": "13IsJVZ6kpTT"
      },
      "source": [
        ""
      ],
      "execution_count": null,
      "outputs": []
    },
    {
      "cell_type": "code",
      "metadata": {
        "id": "BNTewS2ZkpTT"
      },
      "source": [
        ""
      ],
      "execution_count": null,
      "outputs": []
    },
    {
      "cell_type": "markdown",
      "metadata": {
        "id": "0MebbW18kpTT"
      },
      "source": [
        "---"
      ]
    },
    {
      "cell_type": "markdown",
      "metadata": {
        "id": "r1cizflkkpTT"
      },
      "source": [
        "## Resolución de ecuaciones"
      ]
    },
    {
      "cell_type": "markdown",
      "metadata": {
        "id": "Rfw_5OjIkpTT"
      },
      "source": [
        "Como se ha mencionado anteriormente las ecuaciones no se pueden crear con el `=`"
      ]
    },
    {
      "cell_type": "code",
      "metadata": {
        "id": "ujScBPqakpTT"
      },
      "source": [
        "#creamos la ecuación\n",
        " "
      ],
      "execution_count": null,
      "outputs": []
    },
    {
      "cell_type": "code",
      "metadata": {
        "id": "rdHniRXfzlV_"
      },
      "source": [
        "\n"
      ],
      "execution_count": null,
      "outputs": []
    },
    {
      "cell_type": "code",
      "metadata": {
        "id": "pcDNSL0yzqko"
      },
      "source": [
        ""
      ],
      "execution_count": null,
      "outputs": []
    },
    {
      "cell_type": "code",
      "metadata": {
        "id": "REGS9r1xkpTT"
      },
      "source": [
        "# También la podemos crear como\n"
      ],
      "execution_count": null,
      "outputs": []
    },
    {
      "cell_type": "code",
      "metadata": {
        "id": "vlZcjGMxkpTT"
      },
      "source": [
        "#la resolvemos\n"
      ],
      "execution_count": null,
      "outputs": []
    },
    {
      "cell_type": "code",
      "metadata": {
        "id": "Yd_E80pQ0QfB"
      },
      "source": [
        ""
      ],
      "execution_count": null,
      "outputs": []
    },
    {
      "cell_type": "markdown",
      "metadata": {
        "id": "t4PwMKS9kpTT"
      },
      "source": [
        "Pero la gracia es resolver con símbolos, ¿no?\n",
        "$$a e^{\\frac{x}{t}} = C$$"
      ]
    },
    {
      "cell_type": "code",
      "metadata": {
        "id": "pHn-Qy6HkpTT"
      },
      "source": [
        "# Creamos los símbolos y la ecuación\n"
      ],
      "execution_count": null,
      "outputs": []
    },
    {
      "cell_type": "code",
      "metadata": {
        "id": "7Me2SL0TkpTT"
      },
      "source": [
        "# La resolvemos\n"
      ],
      "execution_count": null,
      "outputs": []
    },
    {
      "cell_type": "code",
      "metadata": {
        "id": "HIY_4K_j0gPR"
      },
      "source": [
        ""
      ],
      "execution_count": null,
      "outputs": []
    },
    {
      "cell_type": "markdown",
      "metadata": {
        "id": "gE-P0wClkpTT"
      },
      "source": [
        "Si consultamos la ayuda, vemos que las posibilidades y el número de parámetros son muchos, no vamos a entrar ahora en ellos, pero ¿se ve la potencia?"
      ]
    },
    {
      "cell_type": "markdown",
      "metadata": {
        "id": "zAYriT-1kpTT"
      },
      "source": [
        "## Ecuaciones diferenciales"
      ]
    },
    {
      "cell_type": "markdown",
      "metadata": {
        "id": "a6y2uDdY1KeX"
      },
      "source": [
        ""
      ]
    },
    {
      "cell_type": "markdown",
      "metadata": {
        "id": "sKPac7g2kpTT"
      },
      "source": [
        "Tratemos de resolver, por ejemplo:\n",
        "\n",
        "$$y{\\left (x \\right )} + \\frac{d}{d x} y{\\left (x \\right )} + \\frac{d^{2}}{d x^{2}}  y{\\left (x \\right )} = \\cos{\\left (x \\right )}$$"
      ]
    },
    {
      "cell_type": "code",
      "metadata": {
        "id": "pMaYz4LxkpTT"
      },
      "source": [
        "# solo sirve para ejemplos acádemicos sencillos \n",
        "\n",
        "y = Function('y')\n",
        "y"
      ],
      "execution_count": null,
      "outputs": []
    },
    {
      "cell_type": "code",
      "metadata": {
        "id": "6Q8MME6U0x1n"
      },
      "source": [
        "edo = Eq(y(x) + y(x).diff(x) + y(x).diff(x, 2), cos(x))"
      ],
      "execution_count": null,
      "outputs": []
    },
    {
      "cell_type": "code",
      "metadata": {
        "id": "D2TBcyN2kpTT"
      },
      "source": [
        "#resolvemos\n",
        "dsolve(edo,y(x))"
      ],
      "execution_count": null,
      "outputs": []
    },
    {
      "cell_type": "markdown",
      "metadata": {
        "id": "NaDRI7_FkpTT"
      },
      "source": [
        "# Matrices"
      ]
    },
    {
      "cell_type": "code",
      "metadata": {
        "id": "v1RIc2r_kpTT"
      },
      "source": [
        "#creamos una matriz llena de símbolos\n",
        "a, b, c, d = symbols('a, b, c, d')\n",
        "a, b, c, d\n",
        "\n",
        "A = Matrix([\n",
        "            [a, b],\n",
        "            [c, d]\n",
        "])\n",
        "A"
      ],
      "execution_count": null,
      "outputs": []
    },
    {
      "cell_type": "code",
      "metadata": {
        "id": "-NPm2S8ykpTT"
      },
      "source": [
        "#sacamos autovalores\n",
        "A.eigenvals()\n"
      ],
      "execution_count": null,
      "outputs": []
    },
    {
      "cell_type": "code",
      "metadata": {
        "id": "k85-w1yT2CNg"
      },
      "source": [
        "A.eigenvects()"
      ],
      "execution_count": null,
      "outputs": []
    },
    {
      "cell_type": "code",
      "metadata": {
        "id": "zXbQQ4o5kpTT"
      },
      "source": [
        "#inversa\n",
        "A.inv()"
      ],
      "execution_count": null,
      "outputs": []
    },
    {
      "cell_type": "code",
      "metadata": {
        "id": "_dLdV3u8kpTU"
      },
      "source": [
        "#elevamos al cuadrado la matriz\n",
        "A ** 2"
      ],
      "execution_count": null,
      "outputs": []
    }
  ]
}